{
  "nbformat": 4,
  "nbformat_minor": 0,
  "metadata": {
    "colab": {
      "name": "Projeto Boston Housing MTM",
      "provenance": [],
      "toc_visible": true,
      "authorship_tag": "ABX9TyNOHiiyEETzxuk+D3Cj99L8",
      "include_colab_link": true
    },
    "kernelspec": {
      "name": "python3",
      "display_name": "Python 3"
    },
    "language_info": {
      "name": "python"
    }
  },
  "cells": [
    {
      "cell_type": "markdown",
      "metadata": {
        "id": "view-in-github",
        "colab_type": "text"
      },
      "source": [
        "<a href=\"https://colab.research.google.com/github/VfrMark/boston_housing_mtm/blob/main/Projeto_Boston_Housing_MTM.ipynb\" target=\"_parent\"><img src=\"https://colab.research.google.com/assets/colab-badge.svg\" alt=\"Open In Colab\"/></a>"
      ]
    },
    {
      "cell_type": "markdown",
      "source": [
        "**Projeto offline de aprendizado de máquina de ponta a ponta**\n",
        "\n",
        "\n",
        "---\n",
        "Neste notebook será desenvolvido modelos preditivos para o setor imobiliário. Será usado um conjunto de dados do setor imobiliário de Boston.\n",
        "\n",
        "Este projeto faz parte de uma atividade avaliativa da disciplina *MTM3587-08222 (20212) - Aprendizado da Máquina* lecionada pelo Prof. Edson.\n",
        "\n",
        "Aluno: Marcos Rosa - 18100695\n"
      ],
      "metadata": {
        "id": "US8s-aw_06Vx"
      }
    },
    {
      "cell_type": "markdown",
      "source": [
        "# **Problema em questão**\n",
        "\n",
        "Nosso objetivo é: utilizando o conjunto de dados que temos, criar um modelo que consiga prever o preço de casas em Boston por meio das características disponíveis nos dados. Como temos dados rotulados, faremos a abordagem por aprendizado supervisionado."
      ],
      "metadata": {
        "id": "1pnvrPrE_X4D"
      }
    },
    {
      "cell_type": "markdown",
      "source": [
        "##**Etapas do projeto:**\n",
        "\n",
        "* Descrição do conjunto de dados;\n",
        "\n",
        "* Separação do conjunto em treino e teste;\n",
        "\n",
        "* Visualização do conjunto de dados (análise exploratória básica);\n",
        "\n",
        "* Preparação do conjunto de dados;\n",
        "\n",
        "* Comparar ao menos 3 modelos de machine learning e algumas configuração de \n",
        "hiperparâmetros, justificando a escolha do melhor modelo;\n",
        "\n",
        "* Você deve ainda justificar a escolha da métrica utilizada;\n",
        "\n",
        "* Deve discutir a técnica utilizada para validar o modelo e deve explicar como que o seu modelo evita o \"snooping bias/data leakage\";\n",
        "\n",
        "* Fazer teste final para obter um erro aproximado."
      ],
      "metadata": {
        "id": "ZCsoZZJICH2u"
      }
    },
    {
      "cell_type": "markdown",
      "source": [
        "# **Configurações iniciais**\n",
        "\n",
        "Nesta sessão tomaremos alguns passos importantes antes de iniciar de fato a trabalhar com os dados como importar bibliotecas necessárias, fixar uma *seed* para processos pseudoaleatórios, etc..."
      ],
      "metadata": {
        "id": "PwotxnoY1Tcf"
      }
    },
    {
      "cell_type": "code",
      "execution_count": null,
      "metadata": {
        "id": "95FnXCZd0qOH"
      },
      "outputs": [],
      "source": [
        "# Importações comuns\n",
        "import numpy as np\n",
        "import pandas as pd\n",
        "\n",
        "#Fixar seed\n",
        "seed = 42\n",
        "np.random.seed(seed)"
      ]
    },
    {
      "cell_type": "code",
      "source": [
        "# Configurações para plotar gráficos\n",
        "%matplotlib inline\n",
        "import matplotlib as mpl\n",
        "import matplotlib.pyplot as plt\n",
        "\n",
        "mpl.rc('axes', labelsize=14)\n",
        "mpl.rc('xtick', labelsize=12)\n",
        "mpl.rc('ytick', labelsize=12)"
      ],
      "metadata": {
        "id": "aUrFD0zO_Q66"
      },
      "execution_count": null,
      "outputs": []
    },
    {
      "cell_type": "markdown",
      "source": [
        "## **Importação dos dados**\n",
        "\n",
        "Os dados foram importados dos datasets padrão já existentes no sklearn, A celula a seguir importa os dados e coloca em um Pandas DataFrame."
      ],
      "metadata": {
        "id": "yNnJblBj_dr9"
      }
    },
    {
      "cell_type": "code",
      "source": [
        "from sklearn.datasets import load_boston\n",
        "\n",
        "features, label = load_boston(return_X_y = True)\n",
        "column_names = ['CRIM', 'ZN', 'INDUS', 'CHAS', 'NOX', 'RM', 'AGE', 'DIS', 'RAD', 'TAX', 'PTRATIO', 'B', 'LSTAT']\n",
        "df_housing = pd.DataFrame(data=features, columns = column_names)\n",
        "df_housing[\"MEDV\"] = label"
      ],
      "metadata": {
        "colab": {
          "base_uri": "https://localhost:8080/"
        },
        "id": "1AQbiegL_Yxb",
        "outputId": "d64b3ecd-e494-4e84-810a-86770b0fa260"
      },
      "execution_count": null,
      "outputs": [
        {
          "output_type": "stream",
          "name": "stderr",
          "text": [
            "/usr/local/lib/python3.7/dist-packages/sklearn/utils/deprecation.py:87: FutureWarning: Function load_boston is deprecated; `load_boston` is deprecated in 1.0 and will be removed in 1.2.\n",
            "\n",
            "    The Boston housing prices dataset has an ethical problem. You can refer to\n",
            "    the documentation of this function for further details.\n",
            "\n",
            "    The scikit-learn maintainers therefore strongly discourage the use of this\n",
            "    dataset unless the purpose of the code is to study and educate about\n",
            "    ethical issues in data science and machine learning.\n",
            "\n",
            "    In this special case, you can fetch the dataset from the original\n",
            "    source::\n",
            "\n",
            "        import pandas as pd\n",
            "        import numpy as np\n",
            "\n",
            "\n",
            "        data_url = \"http://lib.stat.cmu.edu/datasets/boston\"\n",
            "        raw_df = pd.read_csv(data_url, sep=\"\\s+\", skiprows=22, header=None)\n",
            "        data = np.hstack([raw_df.values[::2, :], raw_df.values[1::2, :2]])\n",
            "        target = raw_df.values[1::2, 2]\n",
            "\n",
            "    Alternative datasets include the California housing dataset (i.e.\n",
            "    :func:`~sklearn.datasets.fetch_california_housing`) and the Ames housing\n",
            "    dataset. You can load the datasets as follows::\n",
            "\n",
            "        from sklearn.datasets import fetch_california_housing\n",
            "        housing = fetch_california_housing()\n",
            "\n",
            "    for the California housing dataset and::\n",
            "\n",
            "        from sklearn.datasets import fetch_openml\n",
            "        housing = fetch_openml(name=\"house_prices\", as_frame=True)\n",
            "\n",
            "    for the Ames housing dataset.\n",
            "    \n",
            "  warnings.warn(msg, category=FutureWarning)\n"
          ]
        }
      ]
    },
    {
      "cell_type": "markdown",
      "source": [
        "# **Entendendo os dados**"
      ],
      "metadata": {
        "id": "yuDHCxBdEc7-"
      }
    },
    {
      "cell_type": "code",
      "source": [
        "# Ver a quantidade de dados e quais são as features disponíveis.\n",
        "print(df_housing.shape)\n",
        "print(df_housing.columns)"
      ],
      "metadata": {
        "colab": {
          "base_uri": "https://localhost:8080/"
        },
        "id": "bI1N9VGRGaYW",
        "outputId": "a18e3a07-1c95-4aa6-ab46-33d746e03456"
      },
      "execution_count": null,
      "outputs": [
        {
          "output_type": "stream",
          "name": "stdout",
          "text": [
            "(506, 14)\n",
            "Index(['CRIM', 'ZN', 'INDUS', 'CHAS', 'NOX', 'RM', 'AGE', 'DIS', 'RAD', 'TAX',\n",
            "       'PTRATIO', 'B', 'LSTAT', 'MEDV'],\n",
            "      dtype='object')\n"
          ]
        }
      ]
    },
    {
      "cell_type": "code",
      "source": [
        "# Primeiras linhas dos dados\n",
        "\n",
        "df_housing.head()"
      ],
      "metadata": {
        "colab": {
          "base_uri": "https://localhost:8080/",
          "height": 206
        },
        "id": "CjWT_9oMEmEL",
        "outputId": "bf89ba94-036c-4bad-e37e-7270579fa61f"
      },
      "execution_count": null,
      "outputs": [
        {
          "output_type": "execute_result",
          "data": {
            "text/html": [
              "\n",
              "  <div id=\"df-d9dc85e9-71ee-4ead-ac45-29bdf47bb756\">\n",
              "    <div class=\"colab-df-container\">\n",
              "      <div>\n",
              "<style scoped>\n",
              "    .dataframe tbody tr th:only-of-type {\n",
              "        vertical-align: middle;\n",
              "    }\n",
              "\n",
              "    .dataframe tbody tr th {\n",
              "        vertical-align: top;\n",
              "    }\n",
              "\n",
              "    .dataframe thead th {\n",
              "        text-align: right;\n",
              "    }\n",
              "</style>\n",
              "<table border=\"1\" class=\"dataframe\">\n",
              "  <thead>\n",
              "    <tr style=\"text-align: right;\">\n",
              "      <th></th>\n",
              "      <th>CRIM</th>\n",
              "      <th>ZN</th>\n",
              "      <th>INDUS</th>\n",
              "      <th>CHAS</th>\n",
              "      <th>NOX</th>\n",
              "      <th>RM</th>\n",
              "      <th>AGE</th>\n",
              "      <th>DIS</th>\n",
              "      <th>RAD</th>\n",
              "      <th>TAX</th>\n",
              "      <th>PTRATIO</th>\n",
              "      <th>B</th>\n",
              "      <th>LSTAT</th>\n",
              "      <th>MEDV</th>\n",
              "    </tr>\n",
              "  </thead>\n",
              "  <tbody>\n",
              "    <tr>\n",
              "      <th>0</th>\n",
              "      <td>0.00632</td>\n",
              "      <td>18.0</td>\n",
              "      <td>2.31</td>\n",
              "      <td>0.0</td>\n",
              "      <td>0.538</td>\n",
              "      <td>6.575</td>\n",
              "      <td>65.2</td>\n",
              "      <td>4.0900</td>\n",
              "      <td>1.0</td>\n",
              "      <td>296.0</td>\n",
              "      <td>15.3</td>\n",
              "      <td>396.90</td>\n",
              "      <td>4.98</td>\n",
              "      <td>24.0</td>\n",
              "    </tr>\n",
              "    <tr>\n",
              "      <th>1</th>\n",
              "      <td>0.02731</td>\n",
              "      <td>0.0</td>\n",
              "      <td>7.07</td>\n",
              "      <td>0.0</td>\n",
              "      <td>0.469</td>\n",
              "      <td>6.421</td>\n",
              "      <td>78.9</td>\n",
              "      <td>4.9671</td>\n",
              "      <td>2.0</td>\n",
              "      <td>242.0</td>\n",
              "      <td>17.8</td>\n",
              "      <td>396.90</td>\n",
              "      <td>9.14</td>\n",
              "      <td>21.6</td>\n",
              "    </tr>\n",
              "    <tr>\n",
              "      <th>2</th>\n",
              "      <td>0.02729</td>\n",
              "      <td>0.0</td>\n",
              "      <td>7.07</td>\n",
              "      <td>0.0</td>\n",
              "      <td>0.469</td>\n",
              "      <td>7.185</td>\n",
              "      <td>61.1</td>\n",
              "      <td>4.9671</td>\n",
              "      <td>2.0</td>\n",
              "      <td>242.0</td>\n",
              "      <td>17.8</td>\n",
              "      <td>392.83</td>\n",
              "      <td>4.03</td>\n",
              "      <td>34.7</td>\n",
              "    </tr>\n",
              "    <tr>\n",
              "      <th>3</th>\n",
              "      <td>0.03237</td>\n",
              "      <td>0.0</td>\n",
              "      <td>2.18</td>\n",
              "      <td>0.0</td>\n",
              "      <td>0.458</td>\n",
              "      <td>6.998</td>\n",
              "      <td>45.8</td>\n",
              "      <td>6.0622</td>\n",
              "      <td>3.0</td>\n",
              "      <td>222.0</td>\n",
              "      <td>18.7</td>\n",
              "      <td>394.63</td>\n",
              "      <td>2.94</td>\n",
              "      <td>33.4</td>\n",
              "    </tr>\n",
              "    <tr>\n",
              "      <th>4</th>\n",
              "      <td>0.06905</td>\n",
              "      <td>0.0</td>\n",
              "      <td>2.18</td>\n",
              "      <td>0.0</td>\n",
              "      <td>0.458</td>\n",
              "      <td>7.147</td>\n",
              "      <td>54.2</td>\n",
              "      <td>6.0622</td>\n",
              "      <td>3.0</td>\n",
              "      <td>222.0</td>\n",
              "      <td>18.7</td>\n",
              "      <td>396.90</td>\n",
              "      <td>5.33</td>\n",
              "      <td>36.2</td>\n",
              "    </tr>\n",
              "  </tbody>\n",
              "</table>\n",
              "</div>\n",
              "      <button class=\"colab-df-convert\" onclick=\"convertToInteractive('df-d9dc85e9-71ee-4ead-ac45-29bdf47bb756')\"\n",
              "              title=\"Convert this dataframe to an interactive table.\"\n",
              "              style=\"display:none;\">\n",
              "        \n",
              "  <svg xmlns=\"http://www.w3.org/2000/svg\" height=\"24px\"viewBox=\"0 0 24 24\"\n",
              "       width=\"24px\">\n",
              "    <path d=\"M0 0h24v24H0V0z\" fill=\"none\"/>\n",
              "    <path d=\"M18.56 5.44l.94 2.06.94-2.06 2.06-.94-2.06-.94-.94-2.06-.94 2.06-2.06.94zm-11 1L8.5 8.5l.94-2.06 2.06-.94-2.06-.94L8.5 2.5l-.94 2.06-2.06.94zm10 10l.94 2.06.94-2.06 2.06-.94-2.06-.94-.94-2.06-.94 2.06-2.06.94z\"/><path d=\"M17.41 7.96l-1.37-1.37c-.4-.4-.92-.59-1.43-.59-.52 0-1.04.2-1.43.59L10.3 9.45l-7.72 7.72c-.78.78-.78 2.05 0 2.83L4 21.41c.39.39.9.59 1.41.59.51 0 1.02-.2 1.41-.59l7.78-7.78 2.81-2.81c.8-.78.8-2.07 0-2.86zM5.41 20L4 18.59l7.72-7.72 1.47 1.35L5.41 20z\"/>\n",
              "  </svg>\n",
              "      </button>\n",
              "      \n",
              "  <style>\n",
              "    .colab-df-container {\n",
              "      display:flex;\n",
              "      flex-wrap:wrap;\n",
              "      gap: 12px;\n",
              "    }\n",
              "\n",
              "    .colab-df-convert {\n",
              "      background-color: #E8F0FE;\n",
              "      border: none;\n",
              "      border-radius: 50%;\n",
              "      cursor: pointer;\n",
              "      display: none;\n",
              "      fill: #1967D2;\n",
              "      height: 32px;\n",
              "      padding: 0 0 0 0;\n",
              "      width: 32px;\n",
              "    }\n",
              "\n",
              "    .colab-df-convert:hover {\n",
              "      background-color: #E2EBFA;\n",
              "      box-shadow: 0px 1px 2px rgba(60, 64, 67, 0.3), 0px 1px 3px 1px rgba(60, 64, 67, 0.15);\n",
              "      fill: #174EA6;\n",
              "    }\n",
              "\n",
              "    [theme=dark] .colab-df-convert {\n",
              "      background-color: #3B4455;\n",
              "      fill: #D2E3FC;\n",
              "    }\n",
              "\n",
              "    [theme=dark] .colab-df-convert:hover {\n",
              "      background-color: #434B5C;\n",
              "      box-shadow: 0px 1px 3px 1px rgba(0, 0, 0, 0.15);\n",
              "      filter: drop-shadow(0px 1px 2px rgba(0, 0, 0, 0.3));\n",
              "      fill: #FFFFFF;\n",
              "    }\n",
              "  </style>\n",
              "\n",
              "      <script>\n",
              "        const buttonEl =\n",
              "          document.querySelector('#df-d9dc85e9-71ee-4ead-ac45-29bdf47bb756 button.colab-df-convert');\n",
              "        buttonEl.style.display =\n",
              "          google.colab.kernel.accessAllowed ? 'block' : 'none';\n",
              "\n",
              "        async function convertToInteractive(key) {\n",
              "          const element = document.querySelector('#df-d9dc85e9-71ee-4ead-ac45-29bdf47bb756');\n",
              "          const dataTable =\n",
              "            await google.colab.kernel.invokeFunction('convertToInteractive',\n",
              "                                                     [key], {});\n",
              "          if (!dataTable) return;\n",
              "\n",
              "          const docLinkHtml = 'Like what you see? Visit the ' +\n",
              "            '<a target=\"_blank\" href=https://colab.research.google.com/notebooks/data_table.ipynb>data table notebook</a>'\n",
              "            + ' to learn more about interactive tables.';\n",
              "          element.innerHTML = '';\n",
              "          dataTable['output_type'] = 'display_data';\n",
              "          await google.colab.output.renderOutput(dataTable, element);\n",
              "          const docLink = document.createElement('div');\n",
              "          docLink.innerHTML = docLinkHtml;\n",
              "          element.appendChild(docLink);\n",
              "        }\n",
              "      </script>\n",
              "    </div>\n",
              "  </div>\n",
              "  "
            ],
            "text/plain": [
              "      CRIM    ZN  INDUS  CHAS    NOX  ...    TAX  PTRATIO       B  LSTAT  MEDV\n",
              "0  0.00632  18.0   2.31   0.0  0.538  ...  296.0     15.3  396.90   4.98  24.0\n",
              "1  0.02731   0.0   7.07   0.0  0.469  ...  242.0     17.8  396.90   9.14  21.6\n",
              "2  0.02729   0.0   7.07   0.0  0.469  ...  242.0     17.8  392.83   4.03  34.7\n",
              "3  0.03237   0.0   2.18   0.0  0.458  ...  222.0     18.7  394.63   2.94  33.4\n",
              "4  0.06905   0.0   2.18   0.0  0.458  ...  222.0     18.7  396.90   5.33  36.2\n",
              "\n",
              "[5 rows x 14 columns]"
            ]
          },
          "metadata": {},
          "execution_count": 69
        }
      ]
    },
    {
      "cell_type": "code",
      "source": [
        "df_housing.info()"
      ],
      "metadata": {
        "colab": {
          "base_uri": "https://localhost:8080/"
        },
        "id": "W35C_xYVE53N",
        "outputId": "d6ca68b1-7a2a-481f-d758-8a710e04f502"
      },
      "execution_count": null,
      "outputs": [
        {
          "output_type": "stream",
          "name": "stdout",
          "text": [
            "<class 'pandas.core.frame.DataFrame'>\n",
            "RangeIndex: 506 entries, 0 to 505\n",
            "Data columns (total 14 columns):\n",
            " #   Column   Non-Null Count  Dtype  \n",
            "---  ------   --------------  -----  \n",
            " 0   CRIM     506 non-null    float64\n",
            " 1   ZN       506 non-null    float64\n",
            " 2   INDUS    506 non-null    float64\n",
            " 3   CHAS     506 non-null    float64\n",
            " 4   NOX      506 non-null    float64\n",
            " 5   RM       506 non-null    float64\n",
            " 6   AGE      506 non-null    float64\n",
            " 7   DIS      506 non-null    float64\n",
            " 8   RAD      506 non-null    float64\n",
            " 9   TAX      506 non-null    float64\n",
            " 10  PTRATIO  506 non-null    float64\n",
            " 11  B        506 non-null    float64\n",
            " 12  LSTAT    506 non-null    float64\n",
            " 13  MEDV     506 non-null    float64\n",
            "dtypes: float64(14)\n",
            "memory usage: 55.5 KB\n"
          ]
        }
      ]
    },
    {
      "cell_type": "markdown",
      "source": [
        "Observamos que todas as variáveis existentes são quantitativas, tanto discretas quanto contínuas e que não valores nulos em nosso dataset."
      ],
      "metadata": {
        "id": "I-Y8g0HmG-7J"
      }
    },
    {
      "cell_type": "markdown",
      "source": [
        "A seguir descreveremos quais são as características (features) do problema em questão:\n",
        "\n",
        "  1.  CRIM - Taxa de crime per capita por cidade.\n",
        "  2.  ZN - Proporção de terrenos residenciais zoneados para lotes com mais de 25.000ft quadrados.\n",
        "  3.  INDUS - Proporção de negócios não varejistas por cidade (Medido em *acres*).\n",
        "  4.  CHAS - *Charles River dummy variable* (1 se determinada extensão de terra é limitado pelo rio, 0 se não).\n",
        "  5.  NOX - Concentração de oxigênio nítrico.\n",
        "  6.  RM - Número médio de cômodos por casa.\n",
        "  7.  AGE - proporção de unidades ocupadas pelo proprietário construídas antes de 1940.\n",
        "  8.  DIS - distâncias ponderadas até cinco centros de empregos de Boston.\n",
        "  9.  RAD - índice de acessibilidade a rodovias radiais.\n",
        "  10. TAX - taxa de imposto sobre o valor total da propriedade por cada 10.000 dolares.\n",
        "  11. PTRATIO - Número de alunos para cada professor por cidade.\n",
        "  12. B - Proporção de negros por cidade.\n",
        "  13. LSTAT - Porcentagem da população que tem um status baixo.\n",
        "  14. MEDV - Valor médio de casas ocupadas pelo proprietário em US $1.000.\n",
        "\n",
        "  Mais informações podem ser encontradas no [artigo](https://www.sciencedirect.com/science/article/pii/0095069678900062)"
      ],
      "metadata": {
        "id": "9SNhsB-AIipf"
      }
    },
    {
      "cell_type": "code",
      "source": [
        "# Descrição detalhada de medidas de resumo das variáveis.\n",
        "df_housing.describe()"
      ],
      "metadata": {
        "colab": {
          "base_uri": "https://localhost:8080/",
          "height": 364
        },
        "id": "Fty9cqzIH1X0",
        "outputId": "7ae9db18-b248-40bc-818d-6eddb5d43255"
      },
      "execution_count": null,
      "outputs": [
        {
          "output_type": "execute_result",
          "data": {
            "text/html": [
              "\n",
              "  <div id=\"df-8ae8b1c4-e556-4f73-ae17-7fb70fd3f739\">\n",
              "    <div class=\"colab-df-container\">\n",
              "      <div>\n",
              "<style scoped>\n",
              "    .dataframe tbody tr th:only-of-type {\n",
              "        vertical-align: middle;\n",
              "    }\n",
              "\n",
              "    .dataframe tbody tr th {\n",
              "        vertical-align: top;\n",
              "    }\n",
              "\n",
              "    .dataframe thead th {\n",
              "        text-align: right;\n",
              "    }\n",
              "</style>\n",
              "<table border=\"1\" class=\"dataframe\">\n",
              "  <thead>\n",
              "    <tr style=\"text-align: right;\">\n",
              "      <th></th>\n",
              "      <th>CRIM</th>\n",
              "      <th>ZN</th>\n",
              "      <th>INDUS</th>\n",
              "      <th>CHAS</th>\n",
              "      <th>NOX</th>\n",
              "      <th>RM</th>\n",
              "      <th>AGE</th>\n",
              "      <th>DIS</th>\n",
              "      <th>RAD</th>\n",
              "      <th>TAX</th>\n",
              "      <th>PTRATIO</th>\n",
              "      <th>B</th>\n",
              "      <th>LSTAT</th>\n",
              "      <th>MEDV</th>\n",
              "    </tr>\n",
              "  </thead>\n",
              "  <tbody>\n",
              "    <tr>\n",
              "      <th>count</th>\n",
              "      <td>506.000000</td>\n",
              "      <td>506.000000</td>\n",
              "      <td>506.000000</td>\n",
              "      <td>506.000000</td>\n",
              "      <td>506.000000</td>\n",
              "      <td>506.000000</td>\n",
              "      <td>506.000000</td>\n",
              "      <td>506.000000</td>\n",
              "      <td>506.000000</td>\n",
              "      <td>506.000000</td>\n",
              "      <td>506.000000</td>\n",
              "      <td>506.000000</td>\n",
              "      <td>506.000000</td>\n",
              "      <td>506.000000</td>\n",
              "    </tr>\n",
              "    <tr>\n",
              "      <th>mean</th>\n",
              "      <td>3.613524</td>\n",
              "      <td>11.363636</td>\n",
              "      <td>11.136779</td>\n",
              "      <td>0.069170</td>\n",
              "      <td>0.554695</td>\n",
              "      <td>6.284634</td>\n",
              "      <td>68.574901</td>\n",
              "      <td>3.795043</td>\n",
              "      <td>9.549407</td>\n",
              "      <td>408.237154</td>\n",
              "      <td>18.455534</td>\n",
              "      <td>356.674032</td>\n",
              "      <td>12.653063</td>\n",
              "      <td>22.532806</td>\n",
              "    </tr>\n",
              "    <tr>\n",
              "      <th>std</th>\n",
              "      <td>8.601545</td>\n",
              "      <td>23.322453</td>\n",
              "      <td>6.860353</td>\n",
              "      <td>0.253994</td>\n",
              "      <td>0.115878</td>\n",
              "      <td>0.702617</td>\n",
              "      <td>28.148861</td>\n",
              "      <td>2.105710</td>\n",
              "      <td>8.707259</td>\n",
              "      <td>168.537116</td>\n",
              "      <td>2.164946</td>\n",
              "      <td>91.294864</td>\n",
              "      <td>7.141062</td>\n",
              "      <td>9.197104</td>\n",
              "    </tr>\n",
              "    <tr>\n",
              "      <th>min</th>\n",
              "      <td>0.006320</td>\n",
              "      <td>0.000000</td>\n",
              "      <td>0.460000</td>\n",
              "      <td>0.000000</td>\n",
              "      <td>0.385000</td>\n",
              "      <td>3.561000</td>\n",
              "      <td>2.900000</td>\n",
              "      <td>1.129600</td>\n",
              "      <td>1.000000</td>\n",
              "      <td>187.000000</td>\n",
              "      <td>12.600000</td>\n",
              "      <td>0.320000</td>\n",
              "      <td>1.730000</td>\n",
              "      <td>5.000000</td>\n",
              "    </tr>\n",
              "    <tr>\n",
              "      <th>25%</th>\n",
              "      <td>0.082045</td>\n",
              "      <td>0.000000</td>\n",
              "      <td>5.190000</td>\n",
              "      <td>0.000000</td>\n",
              "      <td>0.449000</td>\n",
              "      <td>5.885500</td>\n",
              "      <td>45.025000</td>\n",
              "      <td>2.100175</td>\n",
              "      <td>4.000000</td>\n",
              "      <td>279.000000</td>\n",
              "      <td>17.400000</td>\n",
              "      <td>375.377500</td>\n",
              "      <td>6.950000</td>\n",
              "      <td>17.025000</td>\n",
              "    </tr>\n",
              "    <tr>\n",
              "      <th>50%</th>\n",
              "      <td>0.256510</td>\n",
              "      <td>0.000000</td>\n",
              "      <td>9.690000</td>\n",
              "      <td>0.000000</td>\n",
              "      <td>0.538000</td>\n",
              "      <td>6.208500</td>\n",
              "      <td>77.500000</td>\n",
              "      <td>3.207450</td>\n",
              "      <td>5.000000</td>\n",
              "      <td>330.000000</td>\n",
              "      <td>19.050000</td>\n",
              "      <td>391.440000</td>\n",
              "      <td>11.360000</td>\n",
              "      <td>21.200000</td>\n",
              "    </tr>\n",
              "    <tr>\n",
              "      <th>75%</th>\n",
              "      <td>3.677083</td>\n",
              "      <td>12.500000</td>\n",
              "      <td>18.100000</td>\n",
              "      <td>0.000000</td>\n",
              "      <td>0.624000</td>\n",
              "      <td>6.623500</td>\n",
              "      <td>94.075000</td>\n",
              "      <td>5.188425</td>\n",
              "      <td>24.000000</td>\n",
              "      <td>666.000000</td>\n",
              "      <td>20.200000</td>\n",
              "      <td>396.225000</td>\n",
              "      <td>16.955000</td>\n",
              "      <td>25.000000</td>\n",
              "    </tr>\n",
              "    <tr>\n",
              "      <th>max</th>\n",
              "      <td>88.976200</td>\n",
              "      <td>100.000000</td>\n",
              "      <td>27.740000</td>\n",
              "      <td>1.000000</td>\n",
              "      <td>0.871000</td>\n",
              "      <td>8.780000</td>\n",
              "      <td>100.000000</td>\n",
              "      <td>12.126500</td>\n",
              "      <td>24.000000</td>\n",
              "      <td>711.000000</td>\n",
              "      <td>22.000000</td>\n",
              "      <td>396.900000</td>\n",
              "      <td>37.970000</td>\n",
              "      <td>50.000000</td>\n",
              "    </tr>\n",
              "  </tbody>\n",
              "</table>\n",
              "</div>\n",
              "      <button class=\"colab-df-convert\" onclick=\"convertToInteractive('df-8ae8b1c4-e556-4f73-ae17-7fb70fd3f739')\"\n",
              "              title=\"Convert this dataframe to an interactive table.\"\n",
              "              style=\"display:none;\">\n",
              "        \n",
              "  <svg xmlns=\"http://www.w3.org/2000/svg\" height=\"24px\"viewBox=\"0 0 24 24\"\n",
              "       width=\"24px\">\n",
              "    <path d=\"M0 0h24v24H0V0z\" fill=\"none\"/>\n",
              "    <path d=\"M18.56 5.44l.94 2.06.94-2.06 2.06-.94-2.06-.94-.94-2.06-.94 2.06-2.06.94zm-11 1L8.5 8.5l.94-2.06 2.06-.94-2.06-.94L8.5 2.5l-.94 2.06-2.06.94zm10 10l.94 2.06.94-2.06 2.06-.94-2.06-.94-.94-2.06-.94 2.06-2.06.94z\"/><path d=\"M17.41 7.96l-1.37-1.37c-.4-.4-.92-.59-1.43-.59-.52 0-1.04.2-1.43.59L10.3 9.45l-7.72 7.72c-.78.78-.78 2.05 0 2.83L4 21.41c.39.39.9.59 1.41.59.51 0 1.02-.2 1.41-.59l7.78-7.78 2.81-2.81c.8-.78.8-2.07 0-2.86zM5.41 20L4 18.59l7.72-7.72 1.47 1.35L5.41 20z\"/>\n",
              "  </svg>\n",
              "      </button>\n",
              "      \n",
              "  <style>\n",
              "    .colab-df-container {\n",
              "      display:flex;\n",
              "      flex-wrap:wrap;\n",
              "      gap: 12px;\n",
              "    }\n",
              "\n",
              "    .colab-df-convert {\n",
              "      background-color: #E8F0FE;\n",
              "      border: none;\n",
              "      border-radius: 50%;\n",
              "      cursor: pointer;\n",
              "      display: none;\n",
              "      fill: #1967D2;\n",
              "      height: 32px;\n",
              "      padding: 0 0 0 0;\n",
              "      width: 32px;\n",
              "    }\n",
              "\n",
              "    .colab-df-convert:hover {\n",
              "      background-color: #E2EBFA;\n",
              "      box-shadow: 0px 1px 2px rgba(60, 64, 67, 0.3), 0px 1px 3px 1px rgba(60, 64, 67, 0.15);\n",
              "      fill: #174EA6;\n",
              "    }\n",
              "\n",
              "    [theme=dark] .colab-df-convert {\n",
              "      background-color: #3B4455;\n",
              "      fill: #D2E3FC;\n",
              "    }\n",
              "\n",
              "    [theme=dark] .colab-df-convert:hover {\n",
              "      background-color: #434B5C;\n",
              "      box-shadow: 0px 1px 3px 1px rgba(0, 0, 0, 0.15);\n",
              "      filter: drop-shadow(0px 1px 2px rgba(0, 0, 0, 0.3));\n",
              "      fill: #FFFFFF;\n",
              "    }\n",
              "  </style>\n",
              "\n",
              "      <script>\n",
              "        const buttonEl =\n",
              "          document.querySelector('#df-8ae8b1c4-e556-4f73-ae17-7fb70fd3f739 button.colab-df-convert');\n",
              "        buttonEl.style.display =\n",
              "          google.colab.kernel.accessAllowed ? 'block' : 'none';\n",
              "\n",
              "        async function convertToInteractive(key) {\n",
              "          const element = document.querySelector('#df-8ae8b1c4-e556-4f73-ae17-7fb70fd3f739');\n",
              "          const dataTable =\n",
              "            await google.colab.kernel.invokeFunction('convertToInteractive',\n",
              "                                                     [key], {});\n",
              "          if (!dataTable) return;\n",
              "\n",
              "          const docLinkHtml = 'Like what you see? Visit the ' +\n",
              "            '<a target=\"_blank\" href=https://colab.research.google.com/notebooks/data_table.ipynb>data table notebook</a>'\n",
              "            + ' to learn more about interactive tables.';\n",
              "          element.innerHTML = '';\n",
              "          dataTable['output_type'] = 'display_data';\n",
              "          await google.colab.output.renderOutput(dataTable, element);\n",
              "          const docLink = document.createElement('div');\n",
              "          docLink.innerHTML = docLinkHtml;\n",
              "          element.appendChild(docLink);\n",
              "        }\n",
              "      </script>\n",
              "    </div>\n",
              "  </div>\n",
              "  "
            ],
            "text/plain": [
              "             CRIM          ZN       INDUS  ...           B       LSTAT        MEDV\n",
              "count  506.000000  506.000000  506.000000  ...  506.000000  506.000000  506.000000\n",
              "mean     3.613524   11.363636   11.136779  ...  356.674032   12.653063   22.532806\n",
              "std      8.601545   23.322453    6.860353  ...   91.294864    7.141062    9.197104\n",
              "min      0.006320    0.000000    0.460000  ...    0.320000    1.730000    5.000000\n",
              "25%      0.082045    0.000000    5.190000  ...  375.377500    6.950000   17.025000\n",
              "50%      0.256510    0.000000    9.690000  ...  391.440000   11.360000   21.200000\n",
              "75%      3.677083   12.500000   18.100000  ...  396.225000   16.955000   25.000000\n",
              "max     88.976200  100.000000   27.740000  ...  396.900000   37.970000   50.000000\n",
              "\n",
              "[8 rows x 14 columns]"
            ]
          },
          "metadata": {},
          "execution_count": 71
        }
      ]
    },
    {
      "cell_type": "markdown",
      "source": [
        "Podemos retirar informações importantes sobre os dados do dataframe anterior, como por exemplo\n",
        "\n",
        "Para a feature RM, temos que em média o número médio de cômodos na casa é aproximadamente 6 com uma variação de 0,7.\n",
        "\n",
        "Que 50% das casas tem o número médio de cômodos entre 5.8 e 6.6.\n",
        "\n",
        "De um ponto de vista mais teórico, como a média e mediana tem valores bem próximos, 6.28 e 6.20 respectivamente, isso é um bom indicador de que a distribuição probabilística dessa variável seja gaussiana. Podemos observar melhor esse fator vendo os gráficos mais adiante.\n",
        "\n",
        "Informações semelhantes podem ser retiradas das outras features assim como foi descrito para RM.\n",
        "\n"
      ],
      "metadata": {
        "id": "H23lDYLYJs8E"
      }
    },
    {
      "cell_type": "code",
      "source": [
        "#Plotar os histogramas das features\n",
        "\n",
        "df_housing.hist(bins=50, figsize=(20,15))\n",
        "plt.show()"
      ],
      "metadata": {
        "colab": {
          "base_uri": "https://localhost:8080/",
          "height": 714
        },
        "id": "Z75MqbYpL_-k",
        "outputId": "1b71c7d4-1ddf-4d4f-c720-8bc053355dd5"
      },
      "execution_count": null,
      "outputs": [
        {
          "output_type": "display_data",
          "data": {
            "image/png": "[encoded data removed]",
            "text/plain": [
              "<Figure size 1440x1080 with 16 Axes>"
            ]
          },
          "metadata": {
            "needs_background": "light"
          }
        }
      ]
    },
    {
      "cell_type": "markdown",
      "source": [
        "Podemos observar um pouco melhor agora que a feature RM realmente tende para uma distribuição gaussiana. E ainda, podemos observar que variável MEDV também tende para distribuição gaussiana."
      ],
      "metadata": {
        "id": "dW-mZaHmMfnb"
      }
    },
    {
      "cell_type": "markdown",
      "source": [
        "#Separando o conjunto de dados\n",
        "\n",
        "Observou-se características iniciais e mais básicas dos dados, agora para realizar uma estimativa não envieasa do modelo final é importante separar um conjunto de treinamento e teste."
      ],
      "metadata": {
        "id": "TOQ2i-9zNoWl"
      }
    },
    {
      "cell_type": "markdown",
      "source": [
        "Utilizaremos uma abordagem por amostragem aleatória.\n",
        "\n",
        "É possível que ao conversar com um estatistico outro tipo de amostragem seja mais indicada. No entanto no presente momento utilizaremos esse processo totalmente aleatório e no futuro o processo pode ser melhorado e o modelo otimizado."
      ],
      "metadata": {
        "id": "sZvjWWd_N7xf"
      }
    },
    {
      "cell_type": "code",
      "source": [
        "#Separação dos dados em treino/teste\n",
        "\n",
        "from sklearn.model_selection import train_test_split\n",
        "\n",
        "train_housing, test_housing = train_test_split(df_housing, test_size=0.2, random_state=seed)"
      ],
      "metadata": {
        "id": "cHzCG7yGN55F"
      },
      "execution_count": null,
      "outputs": []
    },
    {
      "cell_type": "markdown",
      "source": [
        "# **Visualização da estrutura dos dados**"
      ],
      "metadata": {
        "id": "C6ub6FSUOjZa"
      }
    },
    {
      "cell_type": "code",
      "source": [
        "# Cópia do conujnto de treino\n",
        "\n",
        "housing = train_housing.copy()"
      ],
      "metadata": {
        "id": "EONBu3b6OuhV"
      },
      "execution_count": null,
      "outputs": []
    },
    {
      "cell_type": "code",
      "source": [
        "corr_matrix = housing.corr() #Matriz de correlação\n",
        "corr_matrix"
      ],
      "metadata": {
        "colab": {
          "base_uri": "https://localhost:8080/",
          "height": 552
        },
        "id": "0P9QglPUO31P",
        "outputId": "2c94e0bb-3455-44d6-e0ab-e18aac05ad3f"
      },
      "execution_count": null,
      "outputs": [
        {
          "output_type": "execute_result",
          "data": {
            "text/html": [
              "\n",
              "  <div id=\"df-c2c040a7-8d09-4899-af7e-c32737d9e821\">\n",
              "    <div class=\"colab-df-container\">\n",
              "      <div>\n",
              "<style scoped>\n",
              "    .dataframe tbody tr th:only-of-type {\n",
              "        vertical-align: middle;\n",
              "    }\n",
              "\n",
              "    .dataframe tbody tr th {\n",
              "        vertical-align: top;\n",
              "    }\n",
              "\n",
              "    .dataframe thead th {\n",
              "        text-align: right;\n",
              "    }\n",
              "</style>\n",
              "<table border=\"1\" class=\"dataframe\">\n",
              "  <thead>\n",
              "    <tr style=\"text-align: right;\">\n",
              "      <th></th>\n",
              "      <th>CRIM</th>\n",
              "      <th>ZN</th>\n",
              "      <th>INDUS</th>\n",
              "      <th>CHAS</th>\n",
              "      <th>NOX</th>\n",
              "      <th>RM</th>\n",
              "      <th>AGE</th>\n",
              "      <th>DIS</th>\n",
              "      <th>RAD</th>\n",
              "      <th>TAX</th>\n",
              "      <th>PTRATIO</th>\n",
              "      <th>B</th>\n",
              "      <th>LSTAT</th>\n",
              "      <th>MEDV</th>\n",
              "    </tr>\n",
              "  </thead>\n",
              "  <tbody>\n",
              "    <tr>\n",
              "      <th>CRIM</th>\n",
              "      <td>1.000000</td>\n",
              "      <td>-0.198855</td>\n",
              "      <td>0.400198</td>\n",
              "      <td>-0.044589</td>\n",
              "      <td>0.396406</td>\n",
              "      <td>-0.200303</td>\n",
              "      <td>0.334090</td>\n",
              "      <td>-0.366487</td>\n",
              "      <td>0.615947</td>\n",
              "      <td>0.576894</td>\n",
              "      <td>0.288970</td>\n",
              "      <td>-0.356858</td>\n",
              "      <td>0.414142</td>\n",
              "      <td>-0.380091</td>\n",
              "    </tr>\n",
              "    <tr>\n",
              "      <th>ZN</th>\n",
              "      <td>-0.198855</td>\n",
              "      <td>1.000000</td>\n",
              "      <td>-0.533489</td>\n",
              "      <td>-0.043754</td>\n",
              "      <td>-0.526414</td>\n",
              "      <td>0.274661</td>\n",
              "      <td>-0.575078</td>\n",
              "      <td>0.681817</td>\n",
              "      <td>-0.313790</td>\n",
              "      <td>-0.294267</td>\n",
              "      <td>-0.389163</td>\n",
              "      <td>0.178652</td>\n",
              "      <td>-0.396572</td>\n",
              "      <td>0.309504</td>\n",
              "    </tr>\n",
              "    <tr>\n",
              "      <th>INDUS</th>\n",
              "      <td>0.400198</td>\n",
              "      <td>-0.533489</td>\n",
              "      <td>1.000000</td>\n",
              "      <td>0.095158</td>\n",
              "      <td>0.770957</td>\n",
              "      <td>-0.398690</td>\n",
              "      <td>0.636569</td>\n",
              "      <td>-0.707566</td>\n",
              "      <td>0.588952</td>\n",
              "      <td>0.702353</td>\n",
              "      <td>0.348303</td>\n",
              "      <td>-0.363151</td>\n",
              "      <td>0.603644</td>\n",
              "      <td>-0.470546</td>\n",
              "    </tr>\n",
              "    <tr>\n",
              "      <th>CHAS</th>\n",
              "      <td>-0.044589</td>\n",
              "      <td>-0.043754</td>\n",
              "      <td>0.095158</td>\n",
              "      <td>1.000000</td>\n",
              "      <td>0.135476</td>\n",
              "      <td>0.111272</td>\n",
              "      <td>0.096016</td>\n",
              "      <td>-0.121671</td>\n",
              "      <td>0.028685</td>\n",
              "      <td>0.007746</td>\n",
              "      <td>-0.113003</td>\n",
              "      <td>0.041666</td>\n",
              "      <td>-0.070652</td>\n",
              "      <td>0.190642</td>\n",
              "    </tr>\n",
              "    <tr>\n",
              "      <th>NOX</th>\n",
              "      <td>0.396406</td>\n",
              "      <td>-0.526414</td>\n",
              "      <td>0.770957</td>\n",
              "      <td>0.135476</td>\n",
              "      <td>1.000000</td>\n",
              "      <td>-0.299615</td>\n",
              "      <td>0.720417</td>\n",
              "      <td>-0.772330</td>\n",
              "      <td>0.589061</td>\n",
              "      <td>0.650247</td>\n",
              "      <td>0.161253</td>\n",
              "      <td>-0.368034</td>\n",
              "      <td>0.593862</td>\n",
              "      <td>-0.415768</td>\n",
              "    </tr>\n",
              "    <tr>\n",
              "      <th>RM</th>\n",
              "      <td>-0.200303</td>\n",
              "      <td>0.274661</td>\n",
              "      <td>-0.398690</td>\n",
              "      <td>0.111272</td>\n",
              "      <td>-0.299615</td>\n",
              "      <td>1.000000</td>\n",
              "      <td>-0.210863</td>\n",
              "      <td>0.198299</td>\n",
              "      <td>-0.199738</td>\n",
              "      <td>-0.281127</td>\n",
              "      <td>-0.342643</td>\n",
              "      <td>0.113347</td>\n",
              "      <td>-0.612577</td>\n",
              "      <td>0.710680</td>\n",
              "    </tr>\n",
              "    <tr>\n",
              "      <th>AGE</th>\n",
              "      <td>0.334090</td>\n",
              "      <td>-0.575078</td>\n",
              "      <td>0.636569</td>\n",
              "      <td>0.096016</td>\n",
              "      <td>0.720417</td>\n",
              "      <td>-0.210863</td>\n",
              "      <td>1.000000</td>\n",
              "      <td>-0.756589</td>\n",
              "      <td>0.430321</td>\n",
              "      <td>0.471670</td>\n",
              "      <td>0.240841</td>\n",
              "      <td>-0.265186</td>\n",
              "      <td>0.571051</td>\n",
              "      <td>-0.340216</td>\n",
              "    </tr>\n",
              "    <tr>\n",
              "      <th>DIS</th>\n",
              "      <td>-0.366487</td>\n",
              "      <td>0.681817</td>\n",
              "      <td>-0.707566</td>\n",
              "      <td>-0.121671</td>\n",
              "      <td>-0.772330</td>\n",
              "      <td>0.198299</td>\n",
              "      <td>-0.756589</td>\n",
              "      <td>1.000000</td>\n",
              "      <td>-0.483329</td>\n",
              "      <td>-0.523577</td>\n",
              "      <td>-0.217588</td>\n",
              "      <td>0.291122</td>\n",
              "      <td>-0.494921</td>\n",
              "      <td>0.235114</td>\n",
              "    </tr>\n",
              "    <tr>\n",
              "      <th>RAD</th>\n",
              "      <td>0.615947</td>\n",
              "      <td>-0.313790</td>\n",
              "      <td>0.588952</td>\n",
              "      <td>0.028685</td>\n",
              "      <td>0.589061</td>\n",
              "      <td>-0.199738</td>\n",
              "      <td>0.430321</td>\n",
              "      <td>-0.483329</td>\n",
              "      <td>1.000000</td>\n",
              "      <td>0.912527</td>\n",
              "      <td>0.472257</td>\n",
              "      <td>-0.439387</td>\n",
              "      <td>0.480301</td>\n",
              "      <td>-0.387467</td>\n",
              "    </tr>\n",
              "    <tr>\n",
              "      <th>TAX</th>\n",
              "      <td>0.576894</td>\n",
              "      <td>-0.294267</td>\n",
              "      <td>0.702353</td>\n",
              "      <td>0.007746</td>\n",
              "      <td>0.650247</td>\n",
              "      <td>-0.281127</td>\n",
              "      <td>0.471670</td>\n",
              "      <td>-0.523577</td>\n",
              "      <td>0.912527</td>\n",
              "      <td>1.000000</td>\n",
              "      <td>0.444836</td>\n",
              "      <td>-0.442027</td>\n",
              "      <td>0.530632</td>\n",
              "      <td>-0.459795</td>\n",
              "    </tr>\n",
              "    <tr>\n",
              "      <th>PTRATIO</th>\n",
              "      <td>0.288970</td>\n",
              "      <td>-0.389163</td>\n",
              "      <td>0.348303</td>\n",
              "      <td>-0.113003</td>\n",
              "      <td>0.161253</td>\n",
              "      <td>-0.342643</td>\n",
              "      <td>0.240841</td>\n",
              "      <td>-0.217588</td>\n",
              "      <td>0.472257</td>\n",
              "      <td>0.444836</td>\n",
              "      <td>1.000000</td>\n",
              "      <td>-0.173958</td>\n",
              "      <td>0.360167</td>\n",
              "      <td>-0.491210</td>\n",
              "    </tr>\n",
              "    <tr>\n",
              "      <th>B</th>\n",
              "      <td>-0.356858</td>\n",
              "      <td>0.178652</td>\n",
              "      <td>-0.363151</td>\n",
              "      <td>0.041666</td>\n",
              "      <td>-0.368034</td>\n",
              "      <td>0.113347</td>\n",
              "      <td>-0.265186</td>\n",
              "      <td>0.291122</td>\n",
              "      <td>-0.439387</td>\n",
              "      <td>-0.442027</td>\n",
              "      <td>-0.173958</td>\n",
              "      <td>1.000000</td>\n",
              "      <td>-0.340873</td>\n",
              "      <td>0.339918</td>\n",
              "    </tr>\n",
              "    <tr>\n",
              "      <th>LSTAT</th>\n",
              "      <td>0.414142</td>\n",
              "      <td>-0.396572</td>\n",
              "      <td>0.603644</td>\n",
              "      <td>-0.070652</td>\n",
              "      <td>0.593862</td>\n",
              "      <td>-0.612577</td>\n",
              "      <td>0.571051</td>\n",
              "      <td>-0.494921</td>\n",
              "      <td>0.480301</td>\n",
              "      <td>0.530632</td>\n",
              "      <td>0.360167</td>\n",
              "      <td>-0.340873</td>\n",
              "      <td>1.000000</td>\n",
              "      <td>-0.736422</td>\n",
              "    </tr>\n",
              "    <tr>\n",
              "      <th>MEDV</th>\n",
              "      <td>-0.380091</td>\n",
              "      <td>0.309504</td>\n",
              "      <td>-0.470546</td>\n",
              "      <td>0.190642</td>\n",
              "      <td>-0.415768</td>\n",
              "      <td>0.710680</td>\n",
              "      <td>-0.340216</td>\n",
              "      <td>0.235114</td>\n",
              "      <td>-0.387467</td>\n",
              "      <td>-0.459795</td>\n",
              "      <td>-0.491210</td>\n",
              "      <td>0.339918</td>\n",
              "      <td>-0.736422</td>\n",
              "      <td>1.000000</td>\n",
              "    </tr>\n",
              "  </tbody>\n",
              "</table>\n",
              "</div>\n",
              "      <button class=\"colab-df-convert\" onclick=\"convertToInteractive('df-c2c040a7-8d09-4899-af7e-c32737d9e821')\"\n",
              "              title=\"Convert this dataframe to an interactive table.\"\n",
              "              style=\"display:none;\">\n",
              "        \n",
              "  <svg xmlns=\"http://www.w3.org/2000/svg\" height=\"24px\"viewBox=\"0 0 24 24\"\n",
              "       width=\"24px\">\n",
              "    <path d=\"M0 0h24v24H0V0z\" fill=\"none\"/>\n",
              "    <path d=\"M18.56 5.44l.94 2.06.94-2.06 2.06-.94-2.06-.94-.94-2.06-.94 2.06-2.06.94zm-11 1L8.5 8.5l.94-2.06 2.06-.94-2.06-.94L8.5 2.5l-.94 2.06-2.06.94zm10 10l.94 2.06.94-2.06 2.06-.94-2.06-.94-.94-2.06-.94 2.06-2.06.94z\"/><path d=\"M17.41 7.96l-1.37-1.37c-.4-.4-.92-.59-1.43-.59-.52 0-1.04.2-1.43.59L10.3 9.45l-7.72 7.72c-.78.78-.78 2.05 0 2.83L4 21.41c.39.39.9.59 1.41.59.51 0 1.02-.2 1.41-.59l7.78-7.78 2.81-2.81c.8-.78.8-2.07 0-2.86zM5.41 20L4 18.59l7.72-7.72 1.47 1.35L5.41 20z\"/>\n",
              "  </svg>\n",
              "      </button>\n",
              "      \n",
              "  <style>\n",
              "    .colab-df-container {\n",
              "      display:flex;\n",
              "      flex-wrap:wrap;\n",
              "      gap: 12px;\n",
              "    }\n",
              "\n",
              "    .colab-df-convert {\n",
              "      background-color: #E8F0FE;\n",
              "      border: none;\n",
              "      border-radius: 50%;\n",
              "      cursor: pointer;\n",
              "      display: none;\n",
              "      fill: #1967D2;\n",
              "      height: 32px;\n",
              "      padding: 0 0 0 0;\n",
              "      width: 32px;\n",
              "    }\n",
              "\n",
              "    .colab-df-convert:hover {\n",
              "      background-color: #E2EBFA;\n",
              "      box-shadow: 0px 1px 2px rgba(60, 64, 67, 0.3), 0px 1px 3px 1px rgba(60, 64, 67, 0.15);\n",
              "      fill: #174EA6;\n",
              "    }\n",
              "\n",
              "    [theme=dark] .colab-df-convert {\n",
              "      background-color: #3B4455;\n",
              "      fill: #D2E3FC;\n",
              "    }\n",
              "\n",
              "    [theme=dark] .colab-df-convert:hover {\n",
              "      background-color: #434B5C;\n",
              "      box-shadow: 0px 1px 3px 1px rgba(0, 0, 0, 0.15);\n",
              "      filter: drop-shadow(0px 1px 2px rgba(0, 0, 0, 0.3));\n",
              "      fill: #FFFFFF;\n",
              "    }\n",
              "  </style>\n",
              "\n",
              "      <script>\n",
              "        const buttonEl =\n",
              "          document.querySelector('#df-c2c040a7-8d09-4899-af7e-c32737d9e821 button.colab-df-convert');\n",
              "        buttonEl.style.display =\n",
              "          google.colab.kernel.accessAllowed ? 'block' : 'none';\n",
              "\n",
              "        async function convertToInteractive(key) {\n",
              "          const element = document.querySelector('#df-c2c040a7-8d09-4899-af7e-c32737d9e821');\n",
              "          const dataTable =\n",
              "            await google.colab.kernel.invokeFunction('convertToInteractive',\n",
              "                                                     [key], {});\n",
              "          if (!dataTable) return;\n",
              "\n",
              "          const docLinkHtml = 'Like what you see? Visit the ' +\n",
              "            '<a target=\"_blank\" href=https://colab.research.google.com/notebooks/data_table.ipynb>data table notebook</a>'\n",
              "            + ' to learn more about interactive tables.';\n",
              "          element.innerHTML = '';\n",
              "          dataTable['output_type'] = 'display_data';\n",
              "          await google.colab.output.renderOutput(dataTable, element);\n",
              "          const docLink = document.createElement('div');\n",
              "          docLink.innerHTML = docLinkHtml;\n",
              "          element.appendChild(docLink);\n",
              "        }\n",
              "      </script>\n",
              "    </div>\n",
              "  </div>\n",
              "  "
            ],
            "text/plain": [
              "             CRIM        ZN     INDUS  ...         B     LSTAT      MEDV\n",
              "CRIM     1.000000 -0.198855  0.400198  ... -0.356858  0.414142 -0.380091\n",
              "ZN      -0.198855  1.000000 -0.533489  ...  0.178652 -0.396572  0.309504\n",
              "INDUS    0.400198 -0.533489  1.000000  ... -0.363151  0.603644 -0.470546\n",
              "CHAS    -0.044589 -0.043754  0.095158  ...  0.041666 -0.070652  0.190642\n",
              "NOX      0.396406 -0.526414  0.770957  ... -0.368034  0.593862 -0.415768\n",
              "RM      -0.200303  0.274661 -0.398690  ...  0.113347 -0.612577  0.710680\n",
              "AGE      0.334090 -0.575078  0.636569  ... -0.265186  0.571051 -0.340216\n",
              "DIS     -0.366487  0.681817 -0.707566  ...  0.291122 -0.494921  0.235114\n",
              "RAD      0.615947 -0.313790  0.588952  ... -0.439387  0.480301 -0.387467\n",
              "TAX      0.576894 -0.294267  0.702353  ... -0.442027  0.530632 -0.459795\n",
              "PTRATIO  0.288970 -0.389163  0.348303  ... -0.173958  0.360167 -0.491210\n",
              "B       -0.356858  0.178652 -0.363151  ...  1.000000 -0.340873  0.339918\n",
              "LSTAT    0.414142 -0.396572  0.603644  ... -0.340873  1.000000 -0.736422\n",
              "MEDV    -0.380091  0.309504 -0.470546  ...  0.339918 -0.736422  1.000000\n",
              "\n",
              "[14 rows x 14 columns]"
            ]
          },
          "metadata": {},
          "execution_count": 75
        }
      ]
    },
    {
      "cell_type": "markdown",
      "source": [
        "Como a feature alvo para predição é MEDV, vejamos quais as correlações com essa variável."
      ],
      "metadata": {
        "id": "JD3_aE7RPH8b"
      }
    },
    {
      "cell_type": "code",
      "source": [
        "corr_matrix['MEDV'].sort_values(ascending=False)  #Correlação de MEDV em ordem decrescente"
      ],
      "metadata": {
        "colab": {
          "base_uri": "https://localhost:8080/"
        },
        "id": "fFI8utq1Pb_C",
        "outputId": "f65aee35-eb01-4f21-e099-a6b7da8442b8"
      },
      "execution_count": null,
      "outputs": [
        {
          "output_type": "execute_result",
          "data": {
            "text/plain": [
              "MEDV       1.000000\n",
              "RM         0.710680\n",
              "B          0.339918\n",
              "ZN         0.309504\n",
              "DIS        0.235114\n",
              "CHAS       0.190642\n",
              "AGE       -0.340216\n",
              "CRIM      -0.380091\n",
              "RAD       -0.387467\n",
              "NOX       -0.415768\n",
              "TAX       -0.459795\n",
              "INDUS     -0.470546\n",
              "PTRATIO   -0.491210\n",
              "LSTAT     -0.736422\n",
              "Name: MEDV, dtype: float64"
            ]
          },
          "metadata": {},
          "execution_count": 76
        }
      ]
    },
    {
      "cell_type": "markdown",
      "source": [
        "Observa-se que a feature RM tem uma alta correlação com a feature MEDV que queremos prever, isto pode ser visto também nos gráficos a seguir."
      ],
      "metadata": {
        "id": "NstkhNe1hrgG"
      }
    },
    {
      "cell_type": "code",
      "source": [
        "from pandas.plotting import scatter_matrix\n",
        "\n",
        "attributes = ['MEDV', 'RM', 'B', 'ZN', 'DIS', 'CHAS']\n",
        "scatter_matrix(housing[attributes], figsize=(12, 8)) #plotar a matriz de correlação"
      ],
      "metadata": {
        "colab": {
          "base_uri": "https://localhost:8080/",
          "height": 1000
        },
        "id": "6PmEo_GJh2Yf",
        "outputId": "d3f634e5-5c3c-477c-d033-59753b9fc3a5"
      },
      "execution_count": null,
      "outputs": [
        {
          "output_type": "execute_result",
          "data": {
            "text/plain": [
              "array([[<matplotlib.axes._subplots.AxesSubplot object at 0x7ff3c10b2590>,\n",
              "        <matplotlib.axes._subplots.AxesSubplot object at 0x7ff3c10da3d0>,\n",
              "        <matplotlib.axes._subplots.AxesSubplot object at 0x7ff3c0fe19d0>,\n",
              "        <matplotlib.axes._subplots.AxesSubplot object at 0x7ff3c0ff3ed0>,\n",
              "        <matplotlib.axes._subplots.AxesSubplot object at 0x7ff3c100d410>,\n",
              "        <matplotlib.axes._subplots.AxesSubplot object at 0x7ff3c0fb9910>],\n",
              "       [<matplotlib.axes._subplots.AxesSubplot object at 0x7ff3c0f6e890>,\n",
              "        <matplotlib.axes._subplots.AxesSubplot object at 0x7ff3c0f27cd0>,\n",
              "        <matplotlib.axes._subplots.AxesSubplot object at 0x7ff3c0f27d10>,\n",
              "        <matplotlib.axes._subplots.AxesSubplot object at 0x7ff3c0ee9350>,\n",
              "        <matplotlib.axes._subplots.AxesSubplot object at 0x7ff3c0e55c50>,\n",
              "        <matplotlib.axes._subplots.AxesSubplot object at 0x7ff3c0e17190>],\n",
              "       [<matplotlib.axes._subplots.AxesSubplot object at 0x7ff3c0e4b690>,\n",
              "        <matplotlib.axes._subplots.AxesSubplot object at 0x7ff3c0e08d10>,\n",
              "        <matplotlib.axes._subplots.AxesSubplot object at 0x7ff3c0dc3510>,\n",
              "        <matplotlib.axes._subplots.AxesSubplot object at 0x7ff3c0d78590>,\n",
              "        <matplotlib.axes._subplots.AxesSubplot object at 0x7ff3c98c5ad0>,\n",
              "        <matplotlib.axes._subplots.AxesSubplot object at 0x7ff3c11317d0>],\n",
              "       [<matplotlib.axes._subplots.AxesSubplot object at 0x7ff3c185d810>,\n",
              "        <matplotlib.axes._subplots.AxesSubplot object at 0x7ff3c113ca50>,\n",
              "        <matplotlib.axes._subplots.AxesSubplot object at 0x7ff3c1113850>,\n",
              "        <matplotlib.axes._subplots.AxesSubplot object at 0x7ff3c1b27a10>,\n",
              "        <matplotlib.axes._subplots.AxesSubplot object at 0x7ff3c1571910>,\n",
              "        <matplotlib.axes._subplots.AxesSubplot object at 0x7ff3c1194ed0>],\n",
              "       [<matplotlib.axes._subplots.AxesSubplot object at 0x7ff3c1324a90>,\n",
              "        <matplotlib.axes._subplots.AxesSubplot object at 0x7ff3c1aa3790>,\n",
              "        <matplotlib.axes._subplots.AxesSubplot object at 0x7ff3c164e150>,\n",
              "        <matplotlib.axes._subplots.AxesSubplot object at 0x7ff3c173d950>,\n",
              "        <matplotlib.axes._subplots.AxesSubplot object at 0x7ff3c141d290>,\n",
              "        <matplotlib.axes._subplots.AxesSubplot object at 0x7ff3c1e3d210>],\n",
              "       [<matplotlib.axes._subplots.AxesSubplot object at 0x7ff3c157c190>,\n",
              "        <matplotlib.axes._subplots.AxesSubplot object at 0x7ff3c1323750>,\n",
              "        <matplotlib.axes._subplots.AxesSubplot object at 0x7ff3c10c9d50>,\n",
              "        <matplotlib.axes._subplots.AxesSubplot object at 0x7ff3c1135390>,\n",
              "        <matplotlib.axes._subplots.AxesSubplot object at 0x7ff3c13c3b90>,\n",
              "        <matplotlib.axes._subplots.AxesSubplot object at 0x7ff3c13edf90>]],\n",
              "      dtype=object)"
            ]
          },
          "metadata": {},
          "execution_count": 77
        },
        {
          "output_type": "display_data",
          "data": {
            "image/png": "[encoded data removed]",
            "text/plain": [
              "<Figure size 864x576 with 36 Axes>"
            ]
          },
          "metadata": {
            "needs_background": "light"
          }
        }
      ]
    },
    {
      "cell_type": "code",
      "source": [
        "housing.plot(kind='scatter', x='RM', y='MEDV', alpha=0.5)"
      ],
      "metadata": {
        "colab": {
          "base_uri": "https://localhost:8080/",
          "height": 303
        },
        "id": "1nlSmTeRi4yj",
        "outputId": "d589f045-036d-4d91-a266-1bb912b52b2c"
      },
      "execution_count": null,
      "outputs": [
        {
          "output_type": "execute_result",
          "data": {
            "text/plain": [
              "<matplotlib.axes._subplots.AxesSubplot at 0x7ff3c1796310>"
            ]
          },
          "metadata": {},
          "execution_count": 78
        },
        {
          "output_type": "display_data",
          "data": {
            "image/png": "[encoded data removed]",
            "text/plain": [
              "<Figure size 432x288 with 1 Axes>"
            ]
          },
          "metadata": {
            "needs_background": "light"
          }
        }
      ]
    },
    {
      "cell_type": "markdown",
      "source": [
        "Apesar de não possuir um número grande de dados no nosso conjunto já é possível observar uma correlação forte entre essas caracteristicas e ainda um possível valor limitante de 50000 para o valor médio das casas."
      ],
      "metadata": {
        "id": "Ib3e9wsTjCMU"
      }
    },
    {
      "cell_type": "markdown",
      "source": [
        "# Preparando os dados para os algoritmos de ML\n",
        "\n",
        "Primeiro passo é separar as features e os rótulos"
      ],
      "metadata": {
        "id": "Hik9Tn1UjOsP"
      }
    },
    {
      "cell_type": "code",
      "source": [
        "housing_features = train_housing.drop('MEDV', axis=1) #Salvando copia apenas das features\n",
        "housing_labels = train_housing['MEDV'].copy() #Salvando copia apenas das labels"
      ],
      "metadata": {
        "id": "7lAXT-RxjOP3"
      },
      "execution_count": null,
      "outputs": []
    },
    {
      "cell_type": "markdown",
      "source": [
        "Vejamos novamente se há dados faltantes no conjunto de dados."
      ],
      "metadata": {
        "id": "9It3gagljqlz"
      }
    },
    {
      "cell_type": "code",
      "source": [
        "null_rows = housing_features[housing_features.isnull().any(axis=1)]\n",
        "null_rows"
      ],
      "metadata": {
        "colab": {
          "base_uri": "https://localhost:8080/",
          "height": 49
        },
        "id": "gkFBiMgUjBvl",
        "outputId": "97cc5f2f-c701-4077-f4dd-49cae663d965"
      },
      "execution_count": null,
      "outputs": [
        {
          "output_type": "execute_result",
          "data": {
            "text/html": [
              "\n",
              "  <div id=\"df-7117ea83-4366-4909-8583-27c94ddf2a7b\">\n",
              "    <div class=\"colab-df-container\">\n",
              "      <div>\n",
              "<style scoped>\n",
              "    .dataframe tbody tr th:only-of-type {\n",
              "        vertical-align: middle;\n",
              "    }\n",
              "\n",
              "    .dataframe tbody tr th {\n",
              "        vertical-align: top;\n",
              "    }\n",
              "\n",
              "    .dataframe thead th {\n",
              "        text-align: right;\n",
              "    }\n",
              "</style>\n",
              "<table border=\"1\" class=\"dataframe\">\n",
              "  <thead>\n",
              "    <tr style=\"text-align: right;\">\n",
              "      <th></th>\n",
              "      <th>CRIM</th>\n",
              "      <th>ZN</th>\n",
              "      <th>INDUS</th>\n",
              "      <th>CHAS</th>\n",
              "      <th>NOX</th>\n",
              "      <th>RM</th>\n",
              "      <th>AGE</th>\n",
              "      <th>DIS</th>\n",
              "      <th>RAD</th>\n",
              "      <th>TAX</th>\n",
              "      <th>PTRATIO</th>\n",
              "      <th>B</th>\n",
              "      <th>LSTAT</th>\n",
              "    </tr>\n",
              "  </thead>\n",
              "  <tbody>\n",
              "  </tbody>\n",
              "</table>\n",
              "</div>\n",
              "      <button class=\"colab-df-convert\" onclick=\"convertToInteractive('df-7117ea83-4366-4909-8583-27c94ddf2a7b')\"\n",
              "              title=\"Convert this dataframe to an interactive table.\"\n",
              "              style=\"display:none;\">\n",
              "        \n",
              "  <svg xmlns=\"http://www.w3.org/2000/svg\" height=\"24px\"viewBox=\"0 0 24 24\"\n",
              "       width=\"24px\">\n",
              "    <path d=\"M0 0h24v24H0V0z\" fill=\"none\"/>\n",
              "    <path d=\"M18.56 5.44l.94 2.06.94-2.06 2.06-.94-2.06-.94-.94-2.06-.94 2.06-2.06.94zm-11 1L8.5 8.5l.94-2.06 2.06-.94-2.06-.94L8.5 2.5l-.94 2.06-2.06.94zm10 10l.94 2.06.94-2.06 2.06-.94-2.06-.94-.94-2.06-.94 2.06-2.06.94z\"/><path d=\"M17.41 7.96l-1.37-1.37c-.4-.4-.92-.59-1.43-.59-.52 0-1.04.2-1.43.59L10.3 9.45l-7.72 7.72c-.78.78-.78 2.05 0 2.83L4 21.41c.39.39.9.59 1.41.59.51 0 1.02-.2 1.41-.59l7.78-7.78 2.81-2.81c.8-.78.8-2.07 0-2.86zM5.41 20L4 18.59l7.72-7.72 1.47 1.35L5.41 20z\"/>\n",
              "  </svg>\n",
              "      </button>\n",
              "      \n",
              "  <style>\n",
              "    .colab-df-container {\n",
              "      display:flex;\n",
              "      flex-wrap:wrap;\n",
              "      gap: 12px;\n",
              "    }\n",
              "\n",
              "    .colab-df-convert {\n",
              "      background-color: #E8F0FE;\n",
              "      border: none;\n",
              "      border-radius: 50%;\n",
              "      cursor: pointer;\n",
              "      display: none;\n",
              "      fill: #1967D2;\n",
              "      height: 32px;\n",
              "      padding: 0 0 0 0;\n",
              "      width: 32px;\n",
              "    }\n",
              "\n",
              "    .colab-df-convert:hover {\n",
              "      background-color: #E2EBFA;\n",
              "      box-shadow: 0px 1px 2px rgba(60, 64, 67, 0.3), 0px 1px 3px 1px rgba(60, 64, 67, 0.15);\n",
              "      fill: #174EA6;\n",
              "    }\n",
              "\n",
              "    [theme=dark] .colab-df-convert {\n",
              "      background-color: #3B4455;\n",
              "      fill: #D2E3FC;\n",
              "    }\n",
              "\n",
              "    [theme=dark] .colab-df-convert:hover {\n",
              "      background-color: #434B5C;\n",
              "      box-shadow: 0px 1px 3px 1px rgba(0, 0, 0, 0.15);\n",
              "      filter: drop-shadow(0px 1px 2px rgba(0, 0, 0, 0.3));\n",
              "      fill: #FFFFFF;\n",
              "    }\n",
              "  </style>\n",
              "\n",
              "      <script>\n",
              "        const buttonEl =\n",
              "          document.querySelector('#df-7117ea83-4366-4909-8583-27c94ddf2a7b button.colab-df-convert');\n",
              "        buttonEl.style.display =\n",
              "          google.colab.kernel.accessAllowed ? 'block' : 'none';\n",
              "\n",
              "        async function convertToInteractive(key) {\n",
              "          const element = document.querySelector('#df-7117ea83-4366-4909-8583-27c94ddf2a7b');\n",
              "          const dataTable =\n",
              "            await google.colab.kernel.invokeFunction('convertToInteractive',\n",
              "                                                     [key], {});\n",
              "          if (!dataTable) return;\n",
              "\n",
              "          const docLinkHtml = 'Like what you see? Visit the ' +\n",
              "            '<a target=\"_blank\" href=https://colab.research.google.com/notebooks/data_table.ipynb>data table notebook</a>'\n",
              "            + ' to learn more about interactive tables.';\n",
              "          element.innerHTML = '';\n",
              "          dataTable['output_type'] = 'display_data';\n",
              "          await google.colab.output.renderOutput(dataTable, element);\n",
              "          const docLink = document.createElement('div');\n",
              "          docLink.innerHTML = docLinkHtml;\n",
              "          element.appendChild(docLink);\n",
              "        }\n",
              "      </script>\n",
              "    </div>\n",
              "  </div>\n",
              "  "
            ],
            "text/plain": [
              "Empty DataFrame\n",
              "Columns: [CRIM, ZN, INDUS, CHAS, NOX, RM, AGE, DIS, RAD, TAX, PTRATIO, B, LSTAT]\n",
              "Index: []"
            ]
          },
          "metadata": {},
          "execution_count": 80
        }
      ]
    },
    {
      "cell_type": "markdown",
      "source": [
        "Aparentemente, no conjunto de treino não há dados faltantes, mas não podemos garantir que o mesmo acontecerá para o conjunto de teste. Por isso é importante ainda assim utilizar uma técnica para lidar com dados faltantes.\n",
        "\n",
        "Faremos isso utilizando o SimpleImputer que irá substituir os dados faltantes pela mediana. \n",
        "\n",
        "Utilizaremos a mediana por ser mais robusta na presença de outliers do que a média, por exemplo."
      ],
      "metadata": {
        "id": "FblagmqykHWm"
      }
    },
    {
      "cell_type": "markdown",
      "source": [
        "##Criando Pipeline"
      ],
      "metadata": {
        "id": "0OOFSp82ko06"
      }
    },
    {
      "cell_type": "code",
      "source": [
        "# Importações necessárias para construir a pipeline\n",
        "\n",
        "from sklearn.pipeline import Pipeline\n",
        "from sklearn.impute import SimpleImputer\n",
        "from sklearn.preprocessing import StandardScaler"
      ],
      "metadata": {
        "id": "2iKWTR8Kk1-f"
      },
      "execution_count": null,
      "outputs": []
    },
    {
      "cell_type": "code",
      "source": [
        "# Pipeline que será usada para tratar os dados\n",
        "\n",
        "pipeline = Pipeline([\n",
        "             ('imputer', SimpleImputer(strategy='median')),\n",
        "             ('scaler', StandardScaler())\n",
        "             ])"
      ],
      "metadata": {
        "id": "pF2054RUlJDt"
      },
      "execution_count": null,
      "outputs": []
    },
    {
      "cell_type": "code",
      "source": [
        "# Passando os dados pelo pipeline\n",
        "\n",
        "housing_prepared = pipeline.fit_transform(housing_features)\n",
        "\n",
        "#visualização de como os dados ficaram após passar pela pipeline.\n",
        "\n",
        "df_prepared = pd.DataFrame(data=housing_prepared, columns = housing_features.columns)\n",
        "df_prepared.head()"
      ],
      "metadata": {
        "colab": {
          "base_uri": "https://localhost:8080/",
          "height": 270
        },
        "id": "_nBnzsvnlO8Z",
        "outputId": "3ebc9eb7-8d92-41f8-88e7-198a08f0f77d"
      },
      "execution_count": null,
      "outputs": [
        {
          "output_type": "execute_result",
          "data": {
            "text/html": [
              "\n",
              "  <div id=\"df-31893933-787d-4b8c-b3e3-b571beed2cf0\">\n",
              "    <div class=\"colab-df-container\">\n",
              "      <div>\n",
              "<style scoped>\n",
              "    .dataframe tbody tr th:only-of-type {\n",
              "        vertical-align: middle;\n",
              "    }\n",
              "\n",
              "    .dataframe tbody tr th {\n",
              "        vertical-align: top;\n",
              "    }\n",
              "\n",
              "    .dataframe thead th {\n",
              "        text-align: right;\n",
              "    }\n",
              "</style>\n",
              "<table border=\"1\" class=\"dataframe\">\n",
              "  <thead>\n",
              "    <tr style=\"text-align: right;\">\n",
              "      <th></th>\n",
              "      <th>CRIM</th>\n",
              "      <th>ZN</th>\n",
              "      <th>INDUS</th>\n",
              "      <th>CHAS</th>\n",
              "      <th>NOX</th>\n",
              "      <th>RM</th>\n",
              "      <th>AGE</th>\n",
              "      <th>DIS</th>\n",
              "      <th>RAD</th>\n",
              "      <th>TAX</th>\n",
              "      <th>PTRATIO</th>\n",
              "      <th>B</th>\n",
              "      <th>LSTAT</th>\n",
              "    </tr>\n",
              "  </thead>\n",
              "  <tbody>\n",
              "    <tr>\n",
              "      <th>0</th>\n",
              "      <td>1.287702</td>\n",
              "      <td>-0.500320</td>\n",
              "      <td>1.033237</td>\n",
              "      <td>-0.278089</td>\n",
              "      <td>0.489252</td>\n",
              "      <td>-1.428069</td>\n",
              "      <td>1.028015</td>\n",
              "      <td>-0.802173</td>\n",
              "      <td>1.706891</td>\n",
              "      <td>1.578434</td>\n",
              "      <td>0.845343</td>\n",
              "      <td>-0.074337</td>\n",
              "      <td>1.753505</td>\n",
              "    </tr>\n",
              "    <tr>\n",
              "      <th>1</th>\n",
              "      <td>-0.336384</td>\n",
              "      <td>-0.500320</td>\n",
              "      <td>-0.413160</td>\n",
              "      <td>-0.278089</td>\n",
              "      <td>-0.157233</td>\n",
              "      <td>-0.680087</td>\n",
              "      <td>-0.431199</td>\n",
              "      <td>0.324349</td>\n",
              "      <td>-0.624360</td>\n",
              "      <td>-0.584648</td>\n",
              "      <td>1.204741</td>\n",
              "      <td>0.430184</td>\n",
              "      <td>-0.561474</td>\n",
              "    </tr>\n",
              "    <tr>\n",
              "      <th>2</th>\n",
              "      <td>-0.403253</td>\n",
              "      <td>1.013271</td>\n",
              "      <td>-0.715218</td>\n",
              "      <td>-0.278089</td>\n",
              "      <td>-1.008723</td>\n",
              "      <td>-0.402063</td>\n",
              "      <td>-1.618599</td>\n",
              "      <td>1.330697</td>\n",
              "      <td>-0.974048</td>\n",
              "      <td>-0.602724</td>\n",
              "      <td>-0.637176</td>\n",
              "      <td>0.065297</td>\n",
              "      <td>-0.651595</td>\n",
              "    </tr>\n",
              "    <tr>\n",
              "      <th>3</th>\n",
              "      <td>0.388230</td>\n",
              "      <td>-0.500320</td>\n",
              "      <td>1.033237</td>\n",
              "      <td>-0.278089</td>\n",
              "      <td>0.489252</td>\n",
              "      <td>-0.300450</td>\n",
              "      <td>0.591681</td>\n",
              "      <td>-0.839240</td>\n",
              "      <td>1.706891</td>\n",
              "      <td>1.578434</td>\n",
              "      <td>0.845343</td>\n",
              "      <td>-3.868193</td>\n",
              "      <td>1.525387</td>\n",
              "    </tr>\n",
              "    <tr>\n",
              "      <th>4</th>\n",
              "      <td>-0.325282</td>\n",
              "      <td>-0.500320</td>\n",
              "      <td>-0.413160</td>\n",
              "      <td>-0.278089</td>\n",
              "      <td>-0.157233</td>\n",
              "      <td>-0.831094</td>\n",
              "      <td>0.033747</td>\n",
              "      <td>-0.005494</td>\n",
              "      <td>-0.624360</td>\n",
              "      <td>-0.584648</td>\n",
              "      <td>1.204741</td>\n",
              "      <td>0.379119</td>\n",
              "      <td>-0.165787</td>\n",
              "    </tr>\n",
              "  </tbody>\n",
              "</table>\n",
              "</div>\n",
              "      <button class=\"colab-df-convert\" onclick=\"convertToInteractive('df-31893933-787d-4b8c-b3e3-b571beed2cf0')\"\n",
              "              title=\"Convert this dataframe to an interactive table.\"\n",
              "              style=\"display:none;\">\n",
              "        \n",
              "  <svg xmlns=\"http://www.w3.org/2000/svg\" height=\"24px\"viewBox=\"0 0 24 24\"\n",
              "       width=\"24px\">\n",
              "    <path d=\"M0 0h24v24H0V0z\" fill=\"none\"/>\n",
              "    <path d=\"M18.56 5.44l.94 2.06.94-2.06 2.06-.94-2.06-.94-.94-2.06-.94 2.06-2.06.94zm-11 1L8.5 8.5l.94-2.06 2.06-.94-2.06-.94L8.5 2.5l-.94 2.06-2.06.94zm10 10l.94 2.06.94-2.06 2.06-.94-2.06-.94-.94-2.06-.94 2.06-2.06.94z\"/><path d=\"M17.41 7.96l-1.37-1.37c-.4-.4-.92-.59-1.43-.59-.52 0-1.04.2-1.43.59L10.3 9.45l-7.72 7.72c-.78.78-.78 2.05 0 2.83L4 21.41c.39.39.9.59 1.41.59.51 0 1.02-.2 1.41-.59l7.78-7.78 2.81-2.81c.8-.78.8-2.07 0-2.86zM5.41 20L4 18.59l7.72-7.72 1.47 1.35L5.41 20z\"/>\n",
              "  </svg>\n",
              "      </button>\n",
              "      \n",
              "  <style>\n",
              "    .colab-df-container {\n",
              "      display:flex;\n",
              "      flex-wrap:wrap;\n",
              "      gap: 12px;\n",
              "    }\n",
              "\n",
              "    .colab-df-convert {\n",
              "      background-color: #E8F0FE;\n",
              "      border: none;\n",
              "      border-radius: 50%;\n",
              "      cursor: pointer;\n",
              "      display: none;\n",
              "      fill: #1967D2;\n",
              "      height: 32px;\n",
              "      padding: 0 0 0 0;\n",
              "      width: 32px;\n",
              "    }\n",
              "\n",
              "    .colab-df-convert:hover {\n",
              "      background-color: #E2EBFA;\n",
              "      box-shadow: 0px 1px 2px rgba(60, 64, 67, 0.3), 0px 1px 3px 1px rgba(60, 64, 67, 0.15);\n",
              "      fill: #174EA6;\n",
              "    }\n",
              "\n",
              "    [theme=dark] .colab-df-convert {\n",
              "      background-color: #3B4455;\n",
              "      fill: #D2E3FC;\n",
              "    }\n",
              "\n",
              "    [theme=dark] .colab-df-convert:hover {\n",
              "      background-color: #434B5C;\n",
              "      box-shadow: 0px 1px 3px 1px rgba(0, 0, 0, 0.15);\n",
              "      filter: drop-shadow(0px 1px 2px rgba(0, 0, 0, 0.3));\n",
              "      fill: #FFFFFF;\n",
              "    }\n",
              "  </style>\n",
              "\n",
              "      <script>\n",
              "        const buttonEl =\n",
              "          document.querySelector('#df-31893933-787d-4b8c-b3e3-b571beed2cf0 button.colab-df-convert');\n",
              "        buttonEl.style.display =\n",
              "          google.colab.kernel.accessAllowed ? 'block' : 'none';\n",
              "\n",
              "        async function convertToInteractive(key) {\n",
              "          const element = document.querySelector('#df-31893933-787d-4b8c-b3e3-b571beed2cf0');\n",
              "          const dataTable =\n",
              "            await google.colab.kernel.invokeFunction('convertToInteractive',\n",
              "                                                     [key], {});\n",
              "          if (!dataTable) return;\n",
              "\n",
              "          const docLinkHtml = 'Like what you see? Visit the ' +\n",
              "            '<a target=\"_blank\" href=https://colab.research.google.com/notebooks/data_table.ipynb>data table notebook</a>'\n",
              "            + ' to learn more about interactive tables.';\n",
              "          element.innerHTML = '';\n",
              "          dataTable['output_type'] = 'display_data';\n",
              "          await google.colab.output.renderOutput(dataTable, element);\n",
              "          const docLink = document.createElement('div');\n",
              "          docLink.innerHTML = docLinkHtml;\n",
              "          element.appendChild(docLink);\n",
              "        }\n",
              "      </script>\n",
              "    </div>\n",
              "  </div>\n",
              "  "
            ],
            "text/plain": [
              "       CRIM        ZN     INDUS  ...   PTRATIO         B     LSTAT\n",
              "0  1.287702 -0.500320  1.033237  ...  0.845343 -0.074337  1.753505\n",
              "1 -0.336384 -0.500320 -0.413160  ...  1.204741  0.430184 -0.561474\n",
              "2 -0.403253  1.013271 -0.715218  ... -0.637176  0.065297 -0.651595\n",
              "3  0.388230 -0.500320  1.033237  ...  0.845343 -3.868193  1.525387\n",
              "4 -0.325282 -0.500320 -0.413160  ...  1.204741  0.379119 -0.165787\n",
              "\n",
              "[5 rows x 13 columns]"
            ]
          },
          "metadata": {},
          "execution_count": 83
        }
      ]
    },
    {
      "cell_type": "markdown",
      "source": [
        "# Testando diferentes modelos\n",
        "\n",
        "\n",
        "Tendo agora os dados transformados podemos treinar e avaliar diferentes modelos.\n",
        "\n",
        "É importante saber que problema estamos resolvendo, se classificação/regressão, pois o tipo de problema implicará em qual tipo de modelo iremos utilizar.\n",
        "\n",
        "Como neste dataset as labels disponíveis e o que queremos prever são valores em um intervalo real, temos um problema de regressão, por isso utilizaremos utilizaremos modelos próprios para esse tipo de problema de regressão. Modelos comuns para essa abordagem são Linear and Polynomial Regression, Decision Tree, Random Forest, Support Vector Regression, etc..."
      ],
      "metadata": {
        "id": "zhj3vd0DmK-6"
      }
    },
    {
      "cell_type": "markdown",
      "source": [
        "## Cross Validation e métricas de qualidade do modelo\n",
        "\n",
        "\n",
        "Aprender os parâmetros de uma função de predição e testar nos mesmos dados é um erro metodológico. Por essa razão antes de começarmos a avaliar mais detalhadamente a estrutura dos dados e tratálos devidamente, separamos o conjunto de dados em treino e teste e trabalhamos apenas com o conjunto de treino até aqui, e deixaremos o conjunto de teste apenas para a avaliação final do modelo. \n",
        "\n",
        "Todo tipo informação que será aprendida pelos modelos á seguir decorrem apenas do conjunto de treino. Esse processo é importante para que evitemos o Snooping Bias/Data Leakage e assim podemos ter uma perspectiva real do grau de generalização do nosso modelo final.\n",
        "\n",
        "\n",
        "E ainda buscando evitar o sobreajuste do modelo ao dados no conjunto de treino, para que tenhamos um modelo que generalize bem para dados novos iremos utilizar o Cross Validation, que consiste em separar o conjunto de treino em _K_ partes, treinar o modelo em _K-1_, e usar a última parte que sobrou como validação. E repetir esse processo até que cada uma das _K_ partes sejam utilizadas como conjunto de validação."
      ],
      "metadata": {
        "id": "Gd6nQ1xAMfzO"
      }
    },
    {
      "cell_type": "markdown",
      "source": [
        "Vejamos as métricas que utilizaremos para avaliar a qualidade dos nossos modelos.\n",
        "\n",
        "Mean Squared Error (MSE): é uma das metricas mais utilizadas para regressão linear, e é largamente usada como _cost function_ nas implementações para solução de problemas de regressão, e é a que utilizaremos em nossos modelos.\n",
        "\n",
        "Root Mean Squared Error (RMSE): única diferença do RMSE para MSE é que é aplicada a raiz quadrado. Isso ajuda a termor um erro mais alinhado com a magnitude da feature alvo. Diferente do MSE que nos retorna valores altos pelo potência quadrática.\n",
        "\n",
        "Mean Absolute Error (MAE): A principal diferença entre o MSE e o MAE é a transformação que aplicamos à diferença entre os valores previstos e reais do alvo. Enquanto no MSE aplica a função quadrada, no MAE aplica-se o valor absoluto. MAE tem vantagens em termo de explicabilidade e relação com o 'Mundo real'.\n",
        "\n"
      ],
      "metadata": {
        "id": "g36uuz_9azcO"
      }
    },
    {
      "cell_type": "code",
      "source": [
        "#Importando o cross validation.\n",
        "from sklearn.model_selection import cross_val_score\n",
        "\n",
        "#Função para calcular a média e desvio padrão dos resultados do cross validation\n",
        "def metrics_scores(score):\n",
        "    print(f'Score de cada iteração: {score}')\n",
        "    print(f'Média: {score.mean()}')\n",
        "    print(f'Desvio padrão: {score.std()}')"
      ],
      "metadata": {
        "id": "ftKQ563imThL"
      },
      "execution_count": null,
      "outputs": []
    },
    {
      "cell_type": "markdown",
      "source": [
        "## Stochastic Gradient Descent"
      ],
      "metadata": {
        "id": "oeVU20wfljw-"
      }
    },
    {
      "cell_type": "code",
      "source": [
        "from sklearn.linear_model import SGDRegressor\n",
        "\n",
        "sgd_model = SGDRegressor(random_state=seed) #Instância do modelo"
      ],
      "metadata": {
        "id": "_JrOz0Z9my92"
      },
      "execution_count": null,
      "outputs": []
    },
    {
      "cell_type": "code",
      "source": [
        "sgd_score = cross_val_score(sgd_model, housing_prepared, housing_labels, scoring='neg_mean_squared_error')\n",
        "metrics_scores(-sgd_score)"
      ],
      "metadata": {
        "colab": {
          "base_uri": "https://localhost:8080/"
        },
        "id": "JxgIpdOJnX4I",
        "outputId": "8db0ab0c-40aa-493c-9a91-e9962188bf3d"
      },
      "execution_count": null,
      "outputs": [
        {
          "output_type": "stream",
          "name": "stdout",
          "text": [
            "Score de cada iteração: [17.57135066 34.92791682 24.34922162 20.07755689 23.05343319]\n",
            "Média: 23.995895838181134\n",
            "Desvio padrão: 5.952315828645457\n"
          ]
        }
      ]
    },
    {
      "cell_type": "markdown",
      "source": [
        "## Decision Tree"
      ],
      "metadata": {
        "id": "7Aix2DNAppnl"
      }
    },
    {
      "cell_type": "code",
      "source": [
        "from sklearn.tree import DecisionTreeRegressor\n",
        "\n",
        "tree_model = DecisionTreeRegressor(random_state = seed)"
      ],
      "metadata": {
        "id": "BGRwrTMipsue"
      },
      "execution_count": null,
      "outputs": []
    },
    {
      "cell_type": "code",
      "source": [
        "tree_score = cross_val_score(tree_model, housing_prepared, housing_labels, scoring='neg_mean_squared_error')\n",
        "metrics_scores(-tree_score)"
      ],
      "metadata": {
        "colab": {
          "base_uri": "https://localhost:8080/"
        },
        "id": "qkbHuCuBszwn",
        "outputId": "bc893124-0e45-411b-c723-8a8d6bbd28fa"
      },
      "execution_count": null,
      "outputs": [
        {
          "output_type": "stream",
          "name": "stdout",
          "text": [
            "Score de cada iteração: [23.55037037 36.40345679 25.65851852 40.59185185 18.554625  ]\n",
            "Média: 28.95176450617284\n",
            "Desvio padrão: 8.235780339057477\n"
          ]
        }
      ]
    },
    {
      "cell_type": "markdown",
      "source": [
        "## Random Forest"
      ],
      "metadata": {
        "id": "zU7e36uGpW2e"
      }
    },
    {
      "cell_type": "code",
      "source": [
        "from sklearn.ensemble import RandomForestRegressor\n",
        "\n",
        "forest_model = RandomForestRegressor(random_state = seed)"
      ],
      "metadata": {
        "id": "dtjboyBPtYxl"
      },
      "execution_count": null,
      "outputs": []
    },
    {
      "cell_type": "code",
      "source": [
        "forest_score = cross_val_score(forest_model, housing_prepared, housing_labels, scoring='neg_mean_squared_error')\n",
        "metrics_scores(-forest_score)"
      ],
      "metadata": {
        "colab": {
          "base_uri": "https://localhost:8080/"
        },
        "id": "CLT6BuC6tYRN",
        "outputId": "9e3e893a-b312-47eb-dfa0-d45d8f2fd3d1"
      },
      "execution_count": null,
      "outputs": [
        {
          "output_type": "stream",
          "name": "stdout",
          "text": [
            "Score de cada iteração: [12.93749694 22.88271477 14.48113105 10.33475811 13.62199124]\n",
            "Média: 14.8516184203395\n",
            "Desvio padrão: 4.247673257353308\n"
          ]
        }
      ]
    },
    {
      "cell_type": "markdown",
      "source": [
        "## KNN"
      ],
      "metadata": {
        "id": "q6SubVjvtXoQ"
      }
    },
    {
      "cell_type": "code",
      "source": [
        "from sklearn.neighbors import KNeighborsRegressor\n",
        "\n",
        "knn_model = KNeighborsRegressor()"
      ],
      "metadata": {
        "id": "wBlo2ogFvYmX"
      },
      "execution_count": null,
      "outputs": []
    },
    {
      "cell_type": "code",
      "source": [
        "knn_score = cross_val_score(knn_model, housing_prepared, housing_labels, scoring='neg_mean_squared_error')\n",
        "metrics_scores(-knn_score)"
      ],
      "metadata": {
        "colab": {
          "base_uri": "https://localhost:8080/"
        },
        "id": "UKqi9kAjvmTQ",
        "outputId": "ab2f3049-462a-4c6b-f8e2-7595e01ec5ad"
      },
      "execution_count": null,
      "outputs": [
        {
          "output_type": "stream",
          "name": "stdout",
          "text": [
            "Score de cada iteração: [15.79519012 33.1204642  21.24209383 25.34774321 17.791035  ]\n",
            "Média: 22.65930527160494\n",
            "Desvio padrão: 6.156105345169322\n"
          ]
        }
      ]
    },
    {
      "cell_type": "markdown",
      "source": [
        "## Support Vector Machines"
      ],
      "metadata": {
        "id": "E-dZ5saYv-L5"
      }
    },
    {
      "cell_type": "code",
      "source": [
        "from sklearn.svm import SVR, NuSVR, LinearSVR\n",
        "\n",
        "svr_model = SVR()\n",
        "nu_svr_model = NuSVR()\n",
        "lin_svr_model = LinearSVR()"
      ],
      "metadata": {
        "id": "tmDQhtw7wR72"
      },
      "execution_count": null,
      "outputs": []
    },
    {
      "cell_type": "code",
      "source": [
        "svr_score = cross_val_score(svr_model, housing_prepared, housing_labels, scoring='neg_mean_squared_error')\n",
        "metrics_scores(-svr_score)"
      ],
      "metadata": {
        "colab": {
          "base_uri": "https://localhost:8080/"
        },
        "id": "f43b85fcw7sT",
        "outputId": "1eed2b45-632f-44dc-a602-f7dc1cf1e696"
      },
      "execution_count": null,
      "outputs": [
        {
          "output_type": "stream",
          "name": "stdout",
          "text": [
            "Score de cada iteração: [26.03579636 39.61659168 38.2396779  32.19280936 25.70582526]\n",
            "Média: 32.3581401119639\n",
            "Desvio padrão: 5.857136904171669\n"
          ]
        }
      ]
    },
    {
      "cell_type": "code",
      "source": [
        "nu_svr_score = cross_val_score(nu_svr_model, housing_prepared, housing_labels, scoring='neg_mean_squared_error')\n",
        "metrics_scores(-nu_svr_score)"
      ],
      "metadata": {
        "colab": {
          "base_uri": "https://localhost:8080/"
        },
        "id": "vx8nmN6nxJfF",
        "outputId": "a98f1519-7e6d-42cd-f56c-56dec081f5ea"
      },
      "execution_count": null,
      "outputs": [
        {
          "output_type": "stream",
          "name": "stdout",
          "text": [
            "Score de cada iteração: [26.8752263  41.57153618 39.43118005 33.80387489 27.34544896]\n",
            "Média: 33.80545327704584\n",
            "Desvio padrão: 6.028607625589532\n"
          ]
        }
      ]
    },
    {
      "cell_type": "code",
      "source": [
        "lin_svr_score = cross_val_score(lin_svr_model, housing_prepared, housing_labels, scoring='neg_mean_squared_error')\n",
        "metrics_scores(-lin_svr_score)"
      ],
      "metadata": {
        "colab": {
          "base_uri": "https://localhost:8080/"
        },
        "id": "Q4rUQor-xJaM",
        "outputId": "116b6702-4d45-4d52-f194-48a2ea7eb115"
      },
      "execution_count": null,
      "outputs": [
        {
          "output_type": "stream",
          "name": "stdout",
          "text": [
            "Score de cada iteração: [18.23890378 37.77129267 32.72844352 21.03667198 25.23364478]\n",
            "Média: 27.00179134781438\n",
            "Desvio padrão: 7.270129207704747\n"
          ]
        }
      ]
    },
    {
      "cell_type": "markdown",
      "source": [
        "# Selecionando o modelo e ajustando hiperparâmetros\n",
        "\n",
        "Após treinar diversos modelos vemos que o que melhor performou foi o Random Forest Regressor. Agora vamos utilizar um processo de Randomized Search para encontrar os melhores hiperparâmetros para a abordagem que estamos utilizando."
      ],
      "metadata": {
        "id": "ftJ_cFiHxhV0"
      }
    },
    {
      "cell_type": "code",
      "source": [
        "from sklearn.model_selection import RandomizedSearchCV\n",
        "\n",
        "#Hiperparâmetros para serem treinados\n",
        "random_search = {'n_estimators': [200, 400, 600, 800, 1000, 1200, 1400, 1600, 1800, 2000],\n",
        "                 'criterion' : ['squared_error', 'absolute_error', 'poisson'],\n",
        "                 'bootstrap': [True, False],\n",
        "                 'max_depth': [10, 20, 30, 40, 50, 60, 70, 80, 90, 100, None],\n",
        "                 'max_features': ['auto', 'sqrt'],\n",
        "                 'min_samples_leaf': [1, 2, 4, 6],\n",
        "                 'min_samples_split': [2, 5, 10],\n",
        "                 }\n",
        "\n",
        "forest_reg = RandomForestRegressor(random_state = seed)\n",
        "randomized_search = RandomizedSearchCV(forest_reg, random_search, random_state=seed, scoring='neg_mean_squared_error')"
      ],
      "metadata": {
        "id": "bi8Dsi-yyjm8"
      },
      "execution_count": null,
      "outputs": []
    },
    {
      "cell_type": "code",
      "source": [
        "randomized_search.fit(housing_prepared, housing_labels)"
      ],
      "metadata": {
        "colab": {
          "base_uri": "https://localhost:8080/"
        },
        "id": "KEhWQYW6y7BR",
        "outputId": "7c19618c-39a4-46bd-df0e-89a8b1ef6d09"
      },
      "execution_count": null,
      "outputs": [
        {
          "output_type": "execute_result",
          "data": {
            "text/plain": [
              "RandomizedSearchCV(estimator=RandomForestRegressor(random_state=42),\n",
              "                   param_distributions={'bootstrap': [True, False],\n",
              "                                        'criterion': ['squared_error',\n",
              "                                                      'absolute_error',\n",
              "                                                      'poisson'],\n",
              "                                        'max_depth': [10, 20, 30, 40, 50, 60,\n",
              "                                                      70, 80, 90, 100, None],\n",
              "                                        'max_features': ['auto', 'sqrt'],\n",
              "                                        'min_samples_leaf': [1, 2, 4, 6],\n",
              "                                        'min_samples_split': [2, 5, 10],\n",
              "                                        'n_estimators': [200, 400, 600, 800,\n",
              "                                                         1000, 1200, 1400, 1600,\n",
              "                                                         1800, 2000]},\n",
              "                   random_state=42, scoring='neg_mean_squared_error')"
            ]
          },
          "metadata": {},
          "execution_count": 98
        }
      ]
    },
    {
      "cell_type": "markdown",
      "source": [
        "# Modelo e teste final\n",
        "\n",
        "Assim o modelo final com os melhores hiperparâmetros encontrados é:"
      ],
      "metadata": {
        "id": "y-nz48oszmOb"
      }
    },
    {
      "cell_type": "code",
      "source": [
        "final_model = randomized_search.best_estimator_\n",
        "final_model"
      ],
      "metadata": {
        "colab": {
          "base_uri": "https://localhost:8080/"
        },
        "id": "NCDtc-1VzyM3",
        "outputId": "fbe5f8de-0eb0-4596-d054-c8b33f8100ca"
      },
      "execution_count": null,
      "outputs": [
        {
          "output_type": "execute_result",
          "data": {
            "text/plain": [
              "RandomForestRegressor(criterion='absolute_error', max_features='sqrt',\n",
              "                      min_samples_leaf=2, n_estimators=400, random_state=42)"
            ]
          },
          "metadata": {},
          "execution_count": 99
        }
      ]
    },
    {
      "cell_type": "code",
      "source": [
        "randomized_search.best_params_"
      ],
      "metadata": {
        "colab": {
          "base_uri": "https://localhost:8080/"
        },
        "id": "Ro-n3Hrw2IFy",
        "outputId": "d14d3987-e7ff-478a-9930-7349622a0eea"
      },
      "execution_count": null,
      "outputs": [
        {
          "output_type": "execute_result",
          "data": {
            "text/plain": [
              "{'bootstrap': True,\n",
              " 'criterion': 'absolute_error',\n",
              " 'max_depth': None,\n",
              " 'max_features': 'sqrt',\n",
              " 'min_samples_leaf': 2,\n",
              " 'min_samples_split': 2,\n",
              " 'n_estimators': 400}"
            ]
          },
          "metadata": {},
          "execution_count": 100
        }
      ]
    },
    {
      "cell_type": "markdown",
      "source": [
        "####Por fim, vejamos quão bem esse modelo generaliza avaliando-o no conjunto de teste com dados totalmente novos para o modelo."
      ],
      "metadata": {
        "id": "wPNajsuJz_hB"
      }
    },
    {
      "cell_type": "code",
      "source": [
        "#Separando features e label do conjunto de teste\n",
        "x_test = test_housing.drop('MEDV', axis=1)\n",
        "y_test = test_housing['MEDV'].copy()"
      ],
      "metadata": {
        "id": "hov5xV5-0T6e"
      },
      "execution_count": null,
      "outputs": []
    },
    {
      "cell_type": "code",
      "source": [
        "#Passando as features do teste pela pipeline\n",
        "x_test_prepared = pipeline.transform(x_test)"
      ],
      "metadata": {
        "id": "SuOU9Nzf0_yG"
      },
      "execution_count": null,
      "outputs": []
    },
    {
      "cell_type": "code",
      "source": [
        "#Avaliando com as métricas citadas anteriormente\n",
        "\n",
        "from sklearn.metrics import mean_squared_error as MSE, mean_absolute_error as MAE\n",
        "\n",
        "test_prediction = final_model.predict(x_test_prepared)\n",
        "\n",
        "final_mse = MSE(y_test, test_prediction)\n",
        "final_rmse = np.sqrt(final_mse)\n",
        "final_mae = MAE(y_test, test_prediction)"
      ],
      "metadata": {
        "id": "dk34SIxr1OlM"
      },
      "execution_count": null,
      "outputs": []
    },
    {
      "cell_type": "code",
      "source": [
        "print(final_mse)\n",
        "print(final_rmse)\n",
        "print(final_mae)"
      ],
      "metadata": {
        "colab": {
          "base_uri": "https://localhost:8080/"
        },
        "id": "-0wBwIbK4NZ6",
        "outputId": "670a55d4-2818-4152-9dde-40b1ae3f996d"
      },
      "execution_count": null,
      "outputs": [
        {
          "output_type": "stream",
          "name": "stdout",
          "text": [
            "11.509091353400787\n",
            "3.3925051736734004\n",
            "2.111800245098042\n"
          ]
        }
      ]
    }
  ]
}